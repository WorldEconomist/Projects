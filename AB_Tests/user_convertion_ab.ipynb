{
  "nbformat": 4,
  "nbformat_minor": 0,
  "metadata": {
    "colab": {
      "provenance": [],
      "authorship_tag": "ABX9TyNBOE2k4yFSdXYO49c258re",
      "include_colab_link": true
    },
    "kernelspec": {
      "name": "python3",
      "display_name": "Python 3"
    },
    "language_info": {
      "name": "python"
    }
  },
  "cells": [
    {
      "cell_type": "markdown",
      "metadata": {
        "id": "view-in-github",
        "colab_type": "text"
      },
      "source": [
        "<a href=\"https://colab.research.google.com/github/WorldEconomist/Projects/blob/main/AB_Tests/user_convertion_ab.ipynb\" target=\"_parent\"><img src=\"https://colab.research.google.com/assets/colab-badge.svg\" alt=\"Open In Colab\"/></a>"
      ]
    },
    {
      "cell_type": "code",
      "execution_count": 1,
      "metadata": {
        "colab": {
          "base_uri": "https://localhost:8080/"
        },
        "id": "1DQkRuXRTnTH",
        "outputId": "6b8ae535-57bd-4bc8-b275-4ed52cab3eab"
      },
      "outputs": [
        {
          "output_type": "stream",
          "name": "stdout",
          "text": [
            "Downloading...\n",
            "From: https://drive.google.com/uc?id=1oh_UbFZ-thpuiulfZdn3st_Oog5sLhas\n",
            "To: /content/AB_users.csv\n",
            "\r  0% 0.00/1.72M [00:00<?, ?B/s]\r100% 1.72M/1.72M [00:00<00:00, 23.4MB/s]\n"
          ]
        }
      ],
      "source": [
        "!gdown 1oh_UbFZ-thpuiulfZdn3st_Oog5sLhas"
      ]
    },
    {
      "cell_type": "code",
      "source": [
        "import pandas as pd\n",
        "import numpy as np\n",
        "import matplotlib.pyplot as plt\n",
        "from scipy.stats import shapiro, mannwhitneyu, median_test\n",
        "import scipy.stats as stats\n",
        "\n",
        "plt.style.use('dark_background')"
      ],
      "metadata": {
        "id": "CHItAFToUD_e"
      },
      "execution_count": 2,
      "outputs": []
    },
    {
      "cell_type": "code",
      "source": [
        "df = pd.read_csv('AB_users.csv')"
      ],
      "metadata": {
        "id": "YZXKEfmMUlAF"
      },
      "execution_count": 3,
      "outputs": []
    },
    {
      "cell_type": "code",
      "source": [
        "df.head()"
      ],
      "metadata": {
        "colab": {
          "base_uri": "https://localhost:8080/",
          "height": 206
        },
        "id": "VdrU6jfZUvjf",
        "outputId": "37633d3e-319d-47ad-9dd1-bffec2678196"
      },
      "execution_count": 4,
      "outputs": [
        {
          "output_type": "execute_result",
          "data": {
            "text/plain": [
              "   user_id    group  views  clicks\n",
              "0        1  control    3.0     0.0\n",
              "1        2  control    1.0     0.0\n",
              "2        3  control    3.0     1.0\n",
              "3        4  control    5.0     0.0\n",
              "4        5  control    2.0     0.0"
            ],
            "text/html": [
              "\n",
              "  <div id=\"df-e8d29e06-1e0a-447e-aa2f-253c7b459627\" class=\"colab-df-container\">\n",
              "    <div>\n",
              "<style scoped>\n",
              "    .dataframe tbody tr th:only-of-type {\n",
              "        vertical-align: middle;\n",
              "    }\n",
              "\n",
              "    .dataframe tbody tr th {\n",
              "        vertical-align: top;\n",
              "    }\n",
              "\n",
              "    .dataframe thead th {\n",
              "        text-align: right;\n",
              "    }\n",
              "</style>\n",
              "<table border=\"1\" class=\"dataframe\">\n",
              "  <thead>\n",
              "    <tr style=\"text-align: right;\">\n",
              "      <th></th>\n",
              "      <th>user_id</th>\n",
              "      <th>group</th>\n",
              "      <th>views</th>\n",
              "      <th>clicks</th>\n",
              "    </tr>\n",
              "  </thead>\n",
              "  <tbody>\n",
              "    <tr>\n",
              "      <th>0</th>\n",
              "      <td>1</td>\n",
              "      <td>control</td>\n",
              "      <td>3.0</td>\n",
              "      <td>0.0</td>\n",
              "    </tr>\n",
              "    <tr>\n",
              "      <th>1</th>\n",
              "      <td>2</td>\n",
              "      <td>control</td>\n",
              "      <td>1.0</td>\n",
              "      <td>0.0</td>\n",
              "    </tr>\n",
              "    <tr>\n",
              "      <th>2</th>\n",
              "      <td>3</td>\n",
              "      <td>control</td>\n",
              "      <td>3.0</td>\n",
              "      <td>1.0</td>\n",
              "    </tr>\n",
              "    <tr>\n",
              "      <th>3</th>\n",
              "      <td>4</td>\n",
              "      <td>control</td>\n",
              "      <td>5.0</td>\n",
              "      <td>0.0</td>\n",
              "    </tr>\n",
              "    <tr>\n",
              "      <th>4</th>\n",
              "      <td>5</td>\n",
              "      <td>control</td>\n",
              "      <td>2.0</td>\n",
              "      <td>0.0</td>\n",
              "    </tr>\n",
              "  </tbody>\n",
              "</table>\n",
              "</div>\n",
              "    <div class=\"colab-df-buttons\">\n",
              "\n",
              "  <div class=\"colab-df-container\">\n",
              "    <button class=\"colab-df-convert\" onclick=\"convertToInteractive('df-e8d29e06-1e0a-447e-aa2f-253c7b459627')\"\n",
              "            title=\"Convert this dataframe to an interactive table.\"\n",
              "            style=\"display:none;\">\n",
              "\n",
              "  <svg xmlns=\"http://www.w3.org/2000/svg\" height=\"24px\" viewBox=\"0 -960 960 960\">\n",
              "    <path d=\"M120-120v-720h720v720H120Zm60-500h600v-160H180v160Zm220 220h160v-160H400v160Zm0 220h160v-160H400v160ZM180-400h160v-160H180v160Zm440 0h160v-160H620v160ZM180-180h160v-160H180v160Zm440 0h160v-160H620v160Z\"/>\n",
              "  </svg>\n",
              "    </button>\n",
              "\n",
              "  <style>\n",
              "    .colab-df-container {\n",
              "      display:flex;\n",
              "      gap: 12px;\n",
              "    }\n",
              "\n",
              "    .colab-df-convert {\n",
              "      background-color: #E8F0FE;\n",
              "      border: none;\n",
              "      border-radius: 50%;\n",
              "      cursor: pointer;\n",
              "      display: none;\n",
              "      fill: #1967D2;\n",
              "      height: 32px;\n",
              "      padding: 0 0 0 0;\n",
              "      width: 32px;\n",
              "    }\n",
              "\n",
              "    .colab-df-convert:hover {\n",
              "      background-color: #E2EBFA;\n",
              "      box-shadow: 0px 1px 2px rgba(60, 64, 67, 0.3), 0px 1px 3px 1px rgba(60, 64, 67, 0.15);\n",
              "      fill: #174EA6;\n",
              "    }\n",
              "\n",
              "    .colab-df-buttons div {\n",
              "      margin-bottom: 4px;\n",
              "    }\n",
              "\n",
              "    [theme=dark] .colab-df-convert {\n",
              "      background-color: #3B4455;\n",
              "      fill: #D2E3FC;\n",
              "    }\n",
              "\n",
              "    [theme=dark] .colab-df-convert:hover {\n",
              "      background-color: #434B5C;\n",
              "      box-shadow: 0px 1px 3px 1px rgba(0, 0, 0, 0.15);\n",
              "      filter: drop-shadow(0px 1px 2px rgba(0, 0, 0, 0.3));\n",
              "      fill: #FFFFFF;\n",
              "    }\n",
              "  </style>\n",
              "\n",
              "    <script>\n",
              "      const buttonEl =\n",
              "        document.querySelector('#df-e8d29e06-1e0a-447e-aa2f-253c7b459627 button.colab-df-convert');\n",
              "      buttonEl.style.display =\n",
              "        google.colab.kernel.accessAllowed ? 'block' : 'none';\n",
              "\n",
              "      async function convertToInteractive(key) {\n",
              "        const element = document.querySelector('#df-e8d29e06-1e0a-447e-aa2f-253c7b459627');\n",
              "        const dataTable =\n",
              "          await google.colab.kernel.invokeFunction('convertToInteractive',\n",
              "                                                    [key], {});\n",
              "        if (!dataTable) return;\n",
              "\n",
              "        const docLinkHtml = 'Like what you see? Visit the ' +\n",
              "          '<a target=\"_blank\" href=https://colab.research.google.com/notebooks/data_table.ipynb>data table notebook</a>'\n",
              "          + ' to learn more about interactive tables.';\n",
              "        element.innerHTML = '';\n",
              "        dataTable['output_type'] = 'display_data';\n",
              "        await google.colab.output.renderOutput(dataTable, element);\n",
              "        const docLink = document.createElement('div');\n",
              "        docLink.innerHTML = docLinkHtml;\n",
              "        element.appendChild(docLink);\n",
              "      }\n",
              "    </script>\n",
              "  </div>\n",
              "\n",
              "\n",
              "<div id=\"df-d67be1e5-e0a0-4ad1-af10-f8288e850af3\">\n",
              "  <button class=\"colab-df-quickchart\" onclick=\"quickchart('df-d67be1e5-e0a0-4ad1-af10-f8288e850af3')\"\n",
              "            title=\"Suggest charts\"\n",
              "            style=\"display:none;\">\n",
              "\n",
              "<svg xmlns=\"http://www.w3.org/2000/svg\" height=\"24px\"viewBox=\"0 0 24 24\"\n",
              "     width=\"24px\">\n",
              "    <g>\n",
              "        <path d=\"M19 3H5c-1.1 0-2 .9-2 2v14c0 1.1.9 2 2 2h14c1.1 0 2-.9 2-2V5c0-1.1-.9-2-2-2zM9 17H7v-7h2v7zm4 0h-2V7h2v10zm4 0h-2v-4h2v4z\"/>\n",
              "    </g>\n",
              "</svg>\n",
              "  </button>\n",
              "\n",
              "<style>\n",
              "  .colab-df-quickchart {\n",
              "      --bg-color: #E8F0FE;\n",
              "      --fill-color: #1967D2;\n",
              "      --hover-bg-color: #E2EBFA;\n",
              "      --hover-fill-color: #174EA6;\n",
              "      --disabled-fill-color: #AAA;\n",
              "      --disabled-bg-color: #DDD;\n",
              "  }\n",
              "\n",
              "  [theme=dark] .colab-df-quickchart {\n",
              "      --bg-color: #3B4455;\n",
              "      --fill-color: #D2E3FC;\n",
              "      --hover-bg-color: #434B5C;\n",
              "      --hover-fill-color: #FFFFFF;\n",
              "      --disabled-bg-color: #3B4455;\n",
              "      --disabled-fill-color: #666;\n",
              "  }\n",
              "\n",
              "  .colab-df-quickchart {\n",
              "    background-color: var(--bg-color);\n",
              "    border: none;\n",
              "    border-radius: 50%;\n",
              "    cursor: pointer;\n",
              "    display: none;\n",
              "    fill: var(--fill-color);\n",
              "    height: 32px;\n",
              "    padding: 0;\n",
              "    width: 32px;\n",
              "  }\n",
              "\n",
              "  .colab-df-quickchart:hover {\n",
              "    background-color: var(--hover-bg-color);\n",
              "    box-shadow: 0 1px 2px rgba(60, 64, 67, 0.3), 0 1px 3px 1px rgba(60, 64, 67, 0.15);\n",
              "    fill: var(--button-hover-fill-color);\n",
              "  }\n",
              "\n",
              "  .colab-df-quickchart-complete:disabled,\n",
              "  .colab-df-quickchart-complete:disabled:hover {\n",
              "    background-color: var(--disabled-bg-color);\n",
              "    fill: var(--disabled-fill-color);\n",
              "    box-shadow: none;\n",
              "  }\n",
              "\n",
              "  .colab-df-spinner {\n",
              "    border: 2px solid var(--fill-color);\n",
              "    border-color: transparent;\n",
              "    border-bottom-color: var(--fill-color);\n",
              "    animation:\n",
              "      spin 1s steps(1) infinite;\n",
              "  }\n",
              "\n",
              "  @keyframes spin {\n",
              "    0% {\n",
              "      border-color: transparent;\n",
              "      border-bottom-color: var(--fill-color);\n",
              "      border-left-color: var(--fill-color);\n",
              "    }\n",
              "    20% {\n",
              "      border-color: transparent;\n",
              "      border-left-color: var(--fill-color);\n",
              "      border-top-color: var(--fill-color);\n",
              "    }\n",
              "    30% {\n",
              "      border-color: transparent;\n",
              "      border-left-color: var(--fill-color);\n",
              "      border-top-color: var(--fill-color);\n",
              "      border-right-color: var(--fill-color);\n",
              "    }\n",
              "    40% {\n",
              "      border-color: transparent;\n",
              "      border-right-color: var(--fill-color);\n",
              "      border-top-color: var(--fill-color);\n",
              "    }\n",
              "    60% {\n",
              "      border-color: transparent;\n",
              "      border-right-color: var(--fill-color);\n",
              "    }\n",
              "    80% {\n",
              "      border-color: transparent;\n",
              "      border-right-color: var(--fill-color);\n",
              "      border-bottom-color: var(--fill-color);\n",
              "    }\n",
              "    90% {\n",
              "      border-color: transparent;\n",
              "      border-bottom-color: var(--fill-color);\n",
              "    }\n",
              "  }\n",
              "</style>\n",
              "\n",
              "  <script>\n",
              "    async function quickchart(key) {\n",
              "      const quickchartButtonEl =\n",
              "        document.querySelector('#' + key + ' button');\n",
              "      quickchartButtonEl.disabled = true;  // To prevent multiple clicks.\n",
              "      quickchartButtonEl.classList.add('colab-df-spinner');\n",
              "      try {\n",
              "        const charts = await google.colab.kernel.invokeFunction(\n",
              "            'suggestCharts', [key], {});\n",
              "      } catch (error) {\n",
              "        console.error('Error during call to suggestCharts:', error);\n",
              "      }\n",
              "      quickchartButtonEl.classList.remove('colab-df-spinner');\n",
              "      quickchartButtonEl.classList.add('colab-df-quickchart-complete');\n",
              "    }\n",
              "    (() => {\n",
              "      let quickchartButtonEl =\n",
              "        document.querySelector('#df-d67be1e5-e0a0-4ad1-af10-f8288e850af3 button');\n",
              "      quickchartButtonEl.style.display =\n",
              "        google.colab.kernel.accessAllowed ? 'block' : 'none';\n",
              "    })();\n",
              "  </script>\n",
              "</div>\n",
              "\n",
              "    </div>\n",
              "  </div>\n"
            ],
            "application/vnd.google.colaboratory.intrinsic+json": {
              "type": "dataframe",
              "variable_name": "df",
              "summary": "{\n  \"name\": \"df\",\n  \"rows\": 80000,\n  \"fields\": [\n    {\n      \"column\": \"user_id\",\n      \"properties\": {\n        \"dtype\": \"number\",\n        \"std\": 23094,\n        \"min\": 1,\n        \"max\": 80000,\n        \"num_unique_values\": 80000,\n        \"samples\": [\n          47045,\n          44296,\n          74784\n        ],\n        \"semantic_type\": \"\",\n        \"description\": \"\"\n      }\n    },\n    {\n      \"column\": \"group\",\n      \"properties\": {\n        \"dtype\": \"category\",\n        \"num_unique_values\": 2,\n        \"samples\": [\n          \"test\",\n          \"control\"\n        ],\n        \"semantic_type\": \"\",\n        \"description\": \"\"\n      }\n    },\n    {\n      \"column\": \"views\",\n      \"properties\": {\n        \"dtype\": \"number\",\n        \"std\": 5.915451959760416,\n        \"min\": 1.0,\n        \"max\": 206.0,\n        \"num_unique_values\": 101,\n        \"samples\": [\n          132.0,\n          49.0\n        ],\n        \"semantic_type\": \"\",\n        \"description\": \"\"\n      }\n    },\n    {\n      \"column\": \"clicks\",\n      \"properties\": {\n        \"dtype\": \"number\",\n        \"std\": 0.7460153418863936,\n        \"min\": 0.0,\n        \"max\": 21.0,\n        \"num_unique_values\": 18,\n        \"samples\": [\n          0.0,\n          1.0\n        ],\n        \"semantic_type\": \"\",\n        \"description\": \"\"\n      }\n    }\n  ]\n}"
            }
          },
          "metadata": {},
          "execution_count": 4
        }
      ]
    },
    {
      "cell_type": "markdown",
      "source": [
        "#EDA and Preprocessing"
      ],
      "metadata": {
        "id": "BccEkX8Ebgfl"
      }
    },
    {
      "cell_type": "code",
      "source": [
        "df.info()"
      ],
      "metadata": {
        "colab": {
          "base_uri": "https://localhost:8080/"
        },
        "id": "0LyKYPW7Xjbc",
        "outputId": "a6be891d-9a80-453b-ce5a-3986ad262ce3"
      },
      "execution_count": 5,
      "outputs": [
        {
          "output_type": "stream",
          "name": "stdout",
          "text": [
            "<class 'pandas.core.frame.DataFrame'>\n",
            "RangeIndex: 80000 entries, 0 to 79999\n",
            "Data columns (total 4 columns):\n",
            " #   Column   Non-Null Count  Dtype  \n",
            "---  ------   --------------  -----  \n",
            " 0   user_id  80000 non-null  int64  \n",
            " 1   group    80000 non-null  object \n",
            " 2   views    80000 non-null  float64\n",
            " 3   clicks   80000 non-null  float64\n",
            "dtypes: float64(2), int64(1), object(1)\n",
            "memory usage: 2.4+ MB\n"
          ]
        }
      ]
    },
    {
      "cell_type": "code",
      "source": [
        "df.user_id.duplicated().sum()"
      ],
      "metadata": {
        "colab": {
          "base_uri": "https://localhost:8080/"
        },
        "id": "jRAK7luqYcw1",
        "outputId": "af412543-ed9b-4b1f-8dcc-e86ba6f6c84a"
      },
      "execution_count": 6,
      "outputs": [
        {
          "output_type": "execute_result",
          "data": {
            "text/plain": [
              "0"
            ]
          },
          "metadata": {},
          "execution_count": 6
        }
      ]
    },
    {
      "cell_type": "code",
      "source": [
        "df[['views', 'clicks']].describe(percentiles = [0.995])"
      ],
      "metadata": {
        "colab": {
          "base_uri": "https://localhost:8080/",
          "height": 269
        },
        "id": "JVxnhhczaxlV",
        "outputId": "2e19650a-f0a0-4c87-ec88-c578209ca8d5"
      },
      "execution_count": 7,
      "outputs": [
        {
          "output_type": "execute_result",
          "data": {
            "text/plain": [
              "              views        clicks\n",
              "count  80000.000000  80000.000000\n",
              "mean       4.998263      0.373437\n",
              "std        5.915452      0.746015\n",
              "min        1.000000      0.000000\n",
              "50%        3.000000      0.000000\n",
              "99.5%     36.000000      4.000000\n",
              "max      206.000000     21.000000"
            ],
            "text/html": [
              "\n",
              "  <div id=\"df-90e74be2-c87f-43b5-898d-37addda1e9ec\" class=\"colab-df-container\">\n",
              "    <div>\n",
              "<style scoped>\n",
              "    .dataframe tbody tr th:only-of-type {\n",
              "        vertical-align: middle;\n",
              "    }\n",
              "\n",
              "    .dataframe tbody tr th {\n",
              "        vertical-align: top;\n",
              "    }\n",
              "\n",
              "    .dataframe thead th {\n",
              "        text-align: right;\n",
              "    }\n",
              "</style>\n",
              "<table border=\"1\" class=\"dataframe\">\n",
              "  <thead>\n",
              "    <tr style=\"text-align: right;\">\n",
              "      <th></th>\n",
              "      <th>views</th>\n",
              "      <th>clicks</th>\n",
              "    </tr>\n",
              "  </thead>\n",
              "  <tbody>\n",
              "    <tr>\n",
              "      <th>count</th>\n",
              "      <td>80000.000000</td>\n",
              "      <td>80000.000000</td>\n",
              "    </tr>\n",
              "    <tr>\n",
              "      <th>mean</th>\n",
              "      <td>4.998263</td>\n",
              "      <td>0.373437</td>\n",
              "    </tr>\n",
              "    <tr>\n",
              "      <th>std</th>\n",
              "      <td>5.915452</td>\n",
              "      <td>0.746015</td>\n",
              "    </tr>\n",
              "    <tr>\n",
              "      <th>min</th>\n",
              "      <td>1.000000</td>\n",
              "      <td>0.000000</td>\n",
              "    </tr>\n",
              "    <tr>\n",
              "      <th>50%</th>\n",
              "      <td>3.000000</td>\n",
              "      <td>0.000000</td>\n",
              "    </tr>\n",
              "    <tr>\n",
              "      <th>99.5%</th>\n",
              "      <td>36.000000</td>\n",
              "      <td>4.000000</td>\n",
              "    </tr>\n",
              "    <tr>\n",
              "      <th>max</th>\n",
              "      <td>206.000000</td>\n",
              "      <td>21.000000</td>\n",
              "    </tr>\n",
              "  </tbody>\n",
              "</table>\n",
              "</div>\n",
              "    <div class=\"colab-df-buttons\">\n",
              "\n",
              "  <div class=\"colab-df-container\">\n",
              "    <button class=\"colab-df-convert\" onclick=\"convertToInteractive('df-90e74be2-c87f-43b5-898d-37addda1e9ec')\"\n",
              "            title=\"Convert this dataframe to an interactive table.\"\n",
              "            style=\"display:none;\">\n",
              "\n",
              "  <svg xmlns=\"http://www.w3.org/2000/svg\" height=\"24px\" viewBox=\"0 -960 960 960\">\n",
              "    <path d=\"M120-120v-720h720v720H120Zm60-500h600v-160H180v160Zm220 220h160v-160H400v160Zm0 220h160v-160H400v160ZM180-400h160v-160H180v160Zm440 0h160v-160H620v160ZM180-180h160v-160H180v160Zm440 0h160v-160H620v160Z\"/>\n",
              "  </svg>\n",
              "    </button>\n",
              "\n",
              "  <style>\n",
              "    .colab-df-container {\n",
              "      display:flex;\n",
              "      gap: 12px;\n",
              "    }\n",
              "\n",
              "    .colab-df-convert {\n",
              "      background-color: #E8F0FE;\n",
              "      border: none;\n",
              "      border-radius: 50%;\n",
              "      cursor: pointer;\n",
              "      display: none;\n",
              "      fill: #1967D2;\n",
              "      height: 32px;\n",
              "      padding: 0 0 0 0;\n",
              "      width: 32px;\n",
              "    }\n",
              "\n",
              "    .colab-df-convert:hover {\n",
              "      background-color: #E2EBFA;\n",
              "      box-shadow: 0px 1px 2px rgba(60, 64, 67, 0.3), 0px 1px 3px 1px rgba(60, 64, 67, 0.15);\n",
              "      fill: #174EA6;\n",
              "    }\n",
              "\n",
              "    .colab-df-buttons div {\n",
              "      margin-bottom: 4px;\n",
              "    }\n",
              "\n",
              "    [theme=dark] .colab-df-convert {\n",
              "      background-color: #3B4455;\n",
              "      fill: #D2E3FC;\n",
              "    }\n",
              "\n",
              "    [theme=dark] .colab-df-convert:hover {\n",
              "      background-color: #434B5C;\n",
              "      box-shadow: 0px 1px 3px 1px rgba(0, 0, 0, 0.15);\n",
              "      filter: drop-shadow(0px 1px 2px rgba(0, 0, 0, 0.3));\n",
              "      fill: #FFFFFF;\n",
              "    }\n",
              "  </style>\n",
              "\n",
              "    <script>\n",
              "      const buttonEl =\n",
              "        document.querySelector('#df-90e74be2-c87f-43b5-898d-37addda1e9ec button.colab-df-convert');\n",
              "      buttonEl.style.display =\n",
              "        google.colab.kernel.accessAllowed ? 'block' : 'none';\n",
              "\n",
              "      async function convertToInteractive(key) {\n",
              "        const element = document.querySelector('#df-90e74be2-c87f-43b5-898d-37addda1e9ec');\n",
              "        const dataTable =\n",
              "          await google.colab.kernel.invokeFunction('convertToInteractive',\n",
              "                                                    [key], {});\n",
              "        if (!dataTable) return;\n",
              "\n",
              "        const docLinkHtml = 'Like what you see? Visit the ' +\n",
              "          '<a target=\"_blank\" href=https://colab.research.google.com/notebooks/data_table.ipynb>data table notebook</a>'\n",
              "          + ' to learn more about interactive tables.';\n",
              "        element.innerHTML = '';\n",
              "        dataTable['output_type'] = 'display_data';\n",
              "        await google.colab.output.renderOutput(dataTable, element);\n",
              "        const docLink = document.createElement('div');\n",
              "        docLink.innerHTML = docLinkHtml;\n",
              "        element.appendChild(docLink);\n",
              "      }\n",
              "    </script>\n",
              "  </div>\n",
              "\n",
              "\n",
              "<div id=\"df-f8a4c43d-e354-4307-b367-84e7d27e7b9e\">\n",
              "  <button class=\"colab-df-quickchart\" onclick=\"quickchart('df-f8a4c43d-e354-4307-b367-84e7d27e7b9e')\"\n",
              "            title=\"Suggest charts\"\n",
              "            style=\"display:none;\">\n",
              "\n",
              "<svg xmlns=\"http://www.w3.org/2000/svg\" height=\"24px\"viewBox=\"0 0 24 24\"\n",
              "     width=\"24px\">\n",
              "    <g>\n",
              "        <path d=\"M19 3H5c-1.1 0-2 .9-2 2v14c0 1.1.9 2 2 2h14c1.1 0 2-.9 2-2V5c0-1.1-.9-2-2-2zM9 17H7v-7h2v7zm4 0h-2V7h2v10zm4 0h-2v-4h2v4z\"/>\n",
              "    </g>\n",
              "</svg>\n",
              "  </button>\n",
              "\n",
              "<style>\n",
              "  .colab-df-quickchart {\n",
              "      --bg-color: #E8F0FE;\n",
              "      --fill-color: #1967D2;\n",
              "      --hover-bg-color: #E2EBFA;\n",
              "      --hover-fill-color: #174EA6;\n",
              "      --disabled-fill-color: #AAA;\n",
              "      --disabled-bg-color: #DDD;\n",
              "  }\n",
              "\n",
              "  [theme=dark] .colab-df-quickchart {\n",
              "      --bg-color: #3B4455;\n",
              "      --fill-color: #D2E3FC;\n",
              "      --hover-bg-color: #434B5C;\n",
              "      --hover-fill-color: #FFFFFF;\n",
              "      --disabled-bg-color: #3B4455;\n",
              "      --disabled-fill-color: #666;\n",
              "  }\n",
              "\n",
              "  .colab-df-quickchart {\n",
              "    background-color: var(--bg-color);\n",
              "    border: none;\n",
              "    border-radius: 50%;\n",
              "    cursor: pointer;\n",
              "    display: none;\n",
              "    fill: var(--fill-color);\n",
              "    height: 32px;\n",
              "    padding: 0;\n",
              "    width: 32px;\n",
              "  }\n",
              "\n",
              "  .colab-df-quickchart:hover {\n",
              "    background-color: var(--hover-bg-color);\n",
              "    box-shadow: 0 1px 2px rgba(60, 64, 67, 0.3), 0 1px 3px 1px rgba(60, 64, 67, 0.15);\n",
              "    fill: var(--button-hover-fill-color);\n",
              "  }\n",
              "\n",
              "  .colab-df-quickchart-complete:disabled,\n",
              "  .colab-df-quickchart-complete:disabled:hover {\n",
              "    background-color: var(--disabled-bg-color);\n",
              "    fill: var(--disabled-fill-color);\n",
              "    box-shadow: none;\n",
              "  }\n",
              "\n",
              "  .colab-df-spinner {\n",
              "    border: 2px solid var(--fill-color);\n",
              "    border-color: transparent;\n",
              "    border-bottom-color: var(--fill-color);\n",
              "    animation:\n",
              "      spin 1s steps(1) infinite;\n",
              "  }\n",
              "\n",
              "  @keyframes spin {\n",
              "    0% {\n",
              "      border-color: transparent;\n",
              "      border-bottom-color: var(--fill-color);\n",
              "      border-left-color: var(--fill-color);\n",
              "    }\n",
              "    20% {\n",
              "      border-color: transparent;\n",
              "      border-left-color: var(--fill-color);\n",
              "      border-top-color: var(--fill-color);\n",
              "    }\n",
              "    30% {\n",
              "      border-color: transparent;\n",
              "      border-left-color: var(--fill-color);\n",
              "      border-top-color: var(--fill-color);\n",
              "      border-right-color: var(--fill-color);\n",
              "    }\n",
              "    40% {\n",
              "      border-color: transparent;\n",
              "      border-right-color: var(--fill-color);\n",
              "      border-top-color: var(--fill-color);\n",
              "    }\n",
              "    60% {\n",
              "      border-color: transparent;\n",
              "      border-right-color: var(--fill-color);\n",
              "    }\n",
              "    80% {\n",
              "      border-color: transparent;\n",
              "      border-right-color: var(--fill-color);\n",
              "      border-bottom-color: var(--fill-color);\n",
              "    }\n",
              "    90% {\n",
              "      border-color: transparent;\n",
              "      border-bottom-color: var(--fill-color);\n",
              "    }\n",
              "  }\n",
              "</style>\n",
              "\n",
              "  <script>\n",
              "    async function quickchart(key) {\n",
              "      const quickchartButtonEl =\n",
              "        document.querySelector('#' + key + ' button');\n",
              "      quickchartButtonEl.disabled = true;  // To prevent multiple clicks.\n",
              "      quickchartButtonEl.classList.add('colab-df-spinner');\n",
              "      try {\n",
              "        const charts = await google.colab.kernel.invokeFunction(\n",
              "            'suggestCharts', [key], {});\n",
              "      } catch (error) {\n",
              "        console.error('Error during call to suggestCharts:', error);\n",
              "      }\n",
              "      quickchartButtonEl.classList.remove('colab-df-spinner');\n",
              "      quickchartButtonEl.classList.add('colab-df-quickchart-complete');\n",
              "    }\n",
              "    (() => {\n",
              "      let quickchartButtonEl =\n",
              "        document.querySelector('#df-f8a4c43d-e354-4307-b367-84e7d27e7b9e button');\n",
              "      quickchartButtonEl.style.display =\n",
              "        google.colab.kernel.accessAllowed ? 'block' : 'none';\n",
              "    })();\n",
              "  </script>\n",
              "</div>\n",
              "\n",
              "    </div>\n",
              "  </div>\n"
            ],
            "application/vnd.google.colaboratory.intrinsic+json": {
              "type": "dataframe",
              "summary": "{\n  \"name\": \"df[['views', 'clicks']]\",\n  \"rows\": 7,\n  \"fields\": [\n    {\n      \"column\": \"views\",\n      \"properties\": {\n        \"dtype\": \"number\",\n        \"std\": 30221.064246039416,\n        \"min\": 1.0,\n        \"max\": 80000.0,\n        \"num_unique_values\": 7,\n        \"samples\": [\n          80000.0,\n          4.9982625,\n          36.0\n        ],\n        \"semantic_type\": \"\",\n        \"description\": \"\"\n      }\n    },\n    {\n      \"column\": \"clicks\",\n      \"properties\": {\n        \"dtype\": \"number\",\n        \"std\": 30235.5134179563,\n        \"min\": 0.0,\n        \"max\": 80000.0,\n        \"num_unique_values\": 6,\n        \"samples\": [\n          80000.0,\n          0.3734375,\n          21.0\n        ],\n        \"semantic_type\": \"\",\n        \"description\": \"\"\n      }\n    }\n  ]\n}"
            }
          },
          "metadata": {},
          "execution_count": 7
        }
      ]
    },
    {
      "cell_type": "code",
      "source": [
        "df = df[\n",
        "    (df['views'] <= np.percentile(df['views'], 99.5)) &\n",
        "    (df['clicks'] <= np.percentile(df['clicks'], 99.5))\n",
        "]"
      ],
      "metadata": {
        "id": "EAiq91ZVriJa"
      },
      "execution_count": 8,
      "outputs": []
    },
    {
      "cell_type": "code",
      "source": [
        "df.group.value_counts(normalize = True)"
      ],
      "metadata": {
        "colab": {
          "base_uri": "https://localhost:8080/",
          "height": 178
        },
        "id": "UenK7QcnfElB",
        "outputId": "9dc8c021-fd9b-4350-c0a8-bf704f57b998"
      },
      "execution_count": 9,
      "outputs": [
        {
          "output_type": "execute_result",
          "data": {
            "text/plain": [
              "group\n",
              "control    0.500057\n",
              "test       0.499943\n",
              "Name: proportion, dtype: float64"
            ],
            "text/html": [
              "<div>\n",
              "<style scoped>\n",
              "    .dataframe tbody tr th:only-of-type {\n",
              "        vertical-align: middle;\n",
              "    }\n",
              "\n",
              "    .dataframe tbody tr th {\n",
              "        vertical-align: top;\n",
              "    }\n",
              "\n",
              "    .dataframe thead th {\n",
              "        text-align: right;\n",
              "    }\n",
              "</style>\n",
              "<table border=\"1\" class=\"dataframe\">\n",
              "  <thead>\n",
              "    <tr style=\"text-align: right;\">\n",
              "      <th></th>\n",
              "      <th>proportion</th>\n",
              "    </tr>\n",
              "    <tr>\n",
              "      <th>group</th>\n",
              "      <th></th>\n",
              "    </tr>\n",
              "  </thead>\n",
              "  <tbody>\n",
              "    <tr>\n",
              "      <th>control</th>\n",
              "      <td>0.500057</td>\n",
              "    </tr>\n",
              "    <tr>\n",
              "      <th>test</th>\n",
              "      <td>0.499943</td>\n",
              "    </tr>\n",
              "  </tbody>\n",
              "</table>\n",
              "</div><br><label><b>dtype:</b> float64</label>"
            ]
          },
          "metadata": {},
          "execution_count": 9
        }
      ]
    },
    {
      "cell_type": "markdown",
      "source": [
        "Our data is far too prefect to be real so I'm planning on manipulating them a bit"
      ],
      "metadata": {
        "id": "Yq6XDFxbY4RB"
      }
    },
    {
      "cell_type": "code",
      "source": [
        "def manipulate_data(df,\n",
        "                    drop_fraction_range,\n",
        "                    swap_fraction,\n",
        "                    random_state = None):\n",
        "\n",
        "    #Manipulates a given DataFrame by dropping a fraction of rows and optionally swapping class values.\n",
        "\n",
        "    rng = np.random.default_rng(random_state)\n",
        "\n",
        "    drop_fraction = rng.uniform(*drop_fraction_range)\n",
        "\n",
        "    drop_indices = rng.choice(df.index,\n",
        "                              size = int(len(df) * drop_fraction),\n",
        "                              replace = False)\n",
        "    df_dropped = df.drop(drop_indices)\n",
        "\n",
        "    swap_size = int(len(df_dropped) * swap_fraction)\n",
        "\n",
        "    if swap_size > 0:\n",
        "      swap_indices = np.random.choice(df_dropped.index,\n",
        "                                      size = swap_size,\n",
        "                                      replace = False)\n",
        "      subset = df_dropped.loc[swap_indices, 'group']\n",
        "      df_dropped.loc[swap_indices, 'group'] = subset.replace({'control':'test',\n",
        "                                                              'test':'control'})\n",
        "\n",
        "    return df_dropped"
      ],
      "metadata": {
        "id": "2KB6aXyR6y4R"
      },
      "execution_count": 10,
      "outputs": []
    },
    {
      "cell_type": "code",
      "source": [
        "data = manipulate_data(df,\n",
        "                       drop_fraction_range = (0.05, 0.3),\n",
        "                       swap_fraction = 0.4,\n",
        "                       random_state = 42)\n",
        "\n",
        "print('New length:')\n",
        "print(data.shape[0])\n",
        "print('New class balance:')\n",
        "print(data.group.value_counts(normalize = True))"
      ],
      "metadata": {
        "colab": {
          "base_uri": "https://localhost:8080/"
        },
        "id": "vjGCh8Dh62n-",
        "outputId": "ea06d4e3-a3ac-435d-9483-73e130b31167"
      },
      "execution_count": 11,
      "outputs": [
        {
          "output_type": "stream",
          "name": "stdout",
          "text": [
            "New length:\n",
            "60153\n",
            "New class balance:\n",
            "group\n",
            "control    0.501455\n",
            "test       0.498545\n",
            "Name: proportion, dtype: float64\n"
          ]
        }
      ]
    },
    {
      "cell_type": "code",
      "source": [
        "fig, axes = plt.subplots(1, 2, figsize=(8, 4))\n",
        "axes[0].hist(data['views'], bins=20, color='blue', edgecolor='black')\n",
        "axes[1].hist(data['clicks'], bins=20, color='green', edgecolor='black')\n",
        "plt.show()"
      ],
      "metadata": {
        "colab": {
          "base_uri": "https://localhost:8080/",
          "height": 368
        },
        "id": "8-ugDg_qlXA6",
        "outputId": "b2efdb39-57e6-4f86-9db8-8862c57211af"
      },
      "execution_count": 12,
      "outputs": [
        {
          "output_type": "display_data",
          "data": {
            "text/plain": [
              "<Figure size 800x400 with 2 Axes>"
            ],
            "image/png": "[encoded data removed]"
          },
          "metadata": {}
        }
      ]
    },
    {
      "cell_type": "code",
      "source": [
        "data.groupby('group')[['views', 'clicks']].agg(['min',\n",
        "                                                'mean',\n",
        "                                                'median',\n",
        "                                                'max']).reset_index()"
      ],
      "metadata": {
        "colab": {
          "base_uri": "https://localhost:8080/",
          "height": 143
        },
        "id": "QVEbqLJmmXTz",
        "outputId": "f3da3b8a-0ef2-41f5-8b27-62eda9053f00"
      },
      "execution_count": 13,
      "outputs": [
        {
          "output_type": "execute_result",
          "data": {
            "text/plain": [
              "     group views                        clicks                      \n",
              "             min      mean median   max    min      mean median  max\n",
              "0  control   1.0  4.709787    3.0  36.0    0.0  0.340671    0.0  4.0\n",
              "1     test   1.0  4.788889    3.0  36.0    0.0  0.355430    0.0  4.0"
            ],
            "text/html": [
              "\n",
              "  <div id=\"df-8b5f7a6c-5de4-47ec-bca2-855006708553\" class=\"colab-df-container\">\n",
              "    <div>\n",
              "<style scoped>\n",
              "    .dataframe tbody tr th:only-of-type {\n",
              "        vertical-align: middle;\n",
              "    }\n",
              "\n",
              "    .dataframe tbody tr th {\n",
              "        vertical-align: top;\n",
              "    }\n",
              "\n",
              "    .dataframe thead tr th {\n",
              "        text-align: left;\n",
              "    }\n",
              "</style>\n",
              "<table border=\"1\" class=\"dataframe\">\n",
              "  <thead>\n",
              "    <tr>\n",
              "      <th></th>\n",
              "      <th>group</th>\n",
              "      <th colspan=\"4\" halign=\"left\">views</th>\n",
              "      <th colspan=\"4\" halign=\"left\">clicks</th>\n",
              "    </tr>\n",
              "    <tr>\n",
              "      <th></th>\n",
              "      <th></th>\n",
              "      <th>min</th>\n",
              "      <th>mean</th>\n",
              "      <th>median</th>\n",
              "      <th>max</th>\n",
              "      <th>min</th>\n",
              "      <th>mean</th>\n",
              "      <th>median</th>\n",
              "      <th>max</th>\n",
              "    </tr>\n",
              "  </thead>\n",
              "  <tbody>\n",
              "    <tr>\n",
              "      <th>0</th>\n",
              "      <td>control</td>\n",
              "      <td>1.0</td>\n",
              "      <td>4.709787</td>\n",
              "      <td>3.0</td>\n",
              "      <td>36.0</td>\n",
              "      <td>0.0</td>\n",
              "      <td>0.340671</td>\n",
              "      <td>0.0</td>\n",
              "      <td>4.0</td>\n",
              "    </tr>\n",
              "    <tr>\n",
              "      <th>1</th>\n",
              "      <td>test</td>\n",
              "      <td>1.0</td>\n",
              "      <td>4.788889</td>\n",
              "      <td>3.0</td>\n",
              "      <td>36.0</td>\n",
              "      <td>0.0</td>\n",
              "      <td>0.355430</td>\n",
              "      <td>0.0</td>\n",
              "      <td>4.0</td>\n",
              "    </tr>\n",
              "  </tbody>\n",
              "</table>\n",
              "</div>\n",
              "    <div class=\"colab-df-buttons\">\n",
              "\n",
              "  <div class=\"colab-df-container\">\n",
              "    <button class=\"colab-df-convert\" onclick=\"convertToInteractive('df-8b5f7a6c-5de4-47ec-bca2-855006708553')\"\n",
              "            title=\"Convert this dataframe to an interactive table.\"\n",
              "            style=\"display:none;\">\n",
              "\n",
              "  <svg xmlns=\"http://www.w3.org/2000/svg\" height=\"24px\" viewBox=\"0 -960 960 960\">\n",
              "    <path d=\"M120-120v-720h720v720H120Zm60-500h600v-160H180v160Zm220 220h160v-160H400v160Zm0 220h160v-160H400v160ZM180-400h160v-160H180v160Zm440 0h160v-160H620v160ZM180-180h160v-160H180v160Zm440 0h160v-160H620v160Z\"/>\n",
              "  </svg>\n",
              "    </button>\n",
              "\n",
              "  <style>\n",
              "    .colab-df-container {\n",
              "      display:flex;\n",
              "      gap: 12px;\n",
              "    }\n",
              "\n",
              "    .colab-df-convert {\n",
              "      background-color: #E8F0FE;\n",
              "      border: none;\n",
              "      border-radius: 50%;\n",
              "      cursor: pointer;\n",
              "      display: none;\n",
              "      fill: #1967D2;\n",
              "      height: 32px;\n",
              "      padding: 0 0 0 0;\n",
              "      width: 32px;\n",
              "    }\n",
              "\n",
              "    .colab-df-convert:hover {\n",
              "      background-color: #E2EBFA;\n",
              "      box-shadow: 0px 1px 2px rgba(60, 64, 67, 0.3), 0px 1px 3px 1px rgba(60, 64, 67, 0.15);\n",
              "      fill: #174EA6;\n",
              "    }\n",
              "\n",
              "    .colab-df-buttons div {\n",
              "      margin-bottom: 4px;\n",
              "    }\n",
              "\n",
              "    [theme=dark] .colab-df-convert {\n",
              "      background-color: #3B4455;\n",
              "      fill: #D2E3FC;\n",
              "    }\n",
              "\n",
              "    [theme=dark] .colab-df-convert:hover {\n",
              "      background-color: #434B5C;\n",
              "      box-shadow: 0px 1px 3px 1px rgba(0, 0, 0, 0.15);\n",
              "      filter: drop-shadow(0px 1px 2px rgba(0, 0, 0, 0.3));\n",
              "      fill: #FFFFFF;\n",
              "    }\n",
              "  </style>\n",
              "\n",
              "    <script>\n",
              "      const buttonEl =\n",
              "        document.querySelector('#df-8b5f7a6c-5de4-47ec-bca2-855006708553 button.colab-df-convert');\n",
              "      buttonEl.style.display =\n",
              "        google.colab.kernel.accessAllowed ? 'block' : 'none';\n",
              "\n",
              "      async function convertToInteractive(key) {\n",
              "        const element = document.querySelector('#df-8b5f7a6c-5de4-47ec-bca2-855006708553');\n",
              "        const dataTable =\n",
              "          await google.colab.kernel.invokeFunction('convertToInteractive',\n",
              "                                                    [key], {});\n",
              "        if (!dataTable) return;\n",
              "\n",
              "        const docLinkHtml = 'Like what you see? Visit the ' +\n",
              "          '<a target=\"_blank\" href=https://colab.research.google.com/notebooks/data_table.ipynb>data table notebook</a>'\n",
              "          + ' to learn more about interactive tables.';\n",
              "        element.innerHTML = '';\n",
              "        dataTable['output_type'] = 'display_data';\n",
              "        await google.colab.output.renderOutput(dataTable, element);\n",
              "        const docLink = document.createElement('div');\n",
              "        docLink.innerHTML = docLinkHtml;\n",
              "        element.appendChild(docLink);\n",
              "      }\n",
              "    </script>\n",
              "  </div>\n",
              "\n",
              "\n",
              "<div id=\"df-2b3ff491-4d76-4a62-aab4-c40c26c378fe\">\n",
              "  <button class=\"colab-df-quickchart\" onclick=\"quickchart('df-2b3ff491-4d76-4a62-aab4-c40c26c378fe')\"\n",
              "            title=\"Suggest charts\"\n",
              "            style=\"display:none;\">\n",
              "\n",
              "<svg xmlns=\"http://www.w3.org/2000/svg\" height=\"24px\"viewBox=\"0 0 24 24\"\n",
              "     width=\"24px\">\n",
              "    <g>\n",
              "        <path d=\"M19 3H5c-1.1 0-2 .9-2 2v14c0 1.1.9 2 2 2h14c1.1 0 2-.9 2-2V5c0-1.1-.9-2-2-2zM9 17H7v-7h2v7zm4 0h-2V7h2v10zm4 0h-2v-4h2v4z\"/>\n",
              "    </g>\n",
              "</svg>\n",
              "  </button>\n",
              "\n",
              "<style>\n",
              "  .colab-df-quickchart {\n",
              "      --bg-color: #E8F0FE;\n",
              "      --fill-color: #1967D2;\n",
              "      --hover-bg-color: #E2EBFA;\n",
              "      --hover-fill-color: #174EA6;\n",
              "      --disabled-fill-color: #AAA;\n",
              "      --disabled-bg-color: #DDD;\n",
              "  }\n",
              "\n",
              "  [theme=dark] .colab-df-quickchart {\n",
              "      --bg-color: #3B4455;\n",
              "      --fill-color: #D2E3FC;\n",
              "      --hover-bg-color: #434B5C;\n",
              "      --hover-fill-color: #FFFFFF;\n",
              "      --disabled-bg-color: #3B4455;\n",
              "      --disabled-fill-color: #666;\n",
              "  }\n",
              "\n",
              "  .colab-df-quickchart {\n",
              "    background-color: var(--bg-color);\n",
              "    border: none;\n",
              "    border-radius: 50%;\n",
              "    cursor: pointer;\n",
              "    display: none;\n",
              "    fill: var(--fill-color);\n",
              "    height: 32px;\n",
              "    padding: 0;\n",
              "    width: 32px;\n",
              "  }\n",
              "\n",
              "  .colab-df-quickchart:hover {\n",
              "    background-color: var(--hover-bg-color);\n",
              "    box-shadow: 0 1px 2px rgba(60, 64, 67, 0.3), 0 1px 3px 1px rgba(60, 64, 67, 0.15);\n",
              "    fill: var(--button-hover-fill-color);\n",
              "  }\n",
              "\n",
              "  .colab-df-quickchart-complete:disabled,\n",
              "  .colab-df-quickchart-complete:disabled:hover {\n",
              "    background-color: var(--disabled-bg-color);\n",
              "    fill: var(--disabled-fill-color);\n",
              "    box-shadow: none;\n",
              "  }\n",
              "\n",
              "  .colab-df-spinner {\n",
              "    border: 2px solid var(--fill-color);\n",
              "    border-color: transparent;\n",
              "    border-bottom-color: var(--fill-color);\n",
              "    animation:\n",
              "      spin 1s steps(1) infinite;\n",
              "  }\n",
              "\n",
              "  @keyframes spin {\n",
              "    0% {\n",
              "      border-color: transparent;\n",
              "      border-bottom-color: var(--fill-color);\n",
              "      border-left-color: var(--fill-color);\n",
              "    }\n",
              "    20% {\n",
              "      border-color: transparent;\n",
              "      border-left-color: var(--fill-color);\n",
              "      border-top-color: var(--fill-color);\n",
              "    }\n",
              "    30% {\n",
              "      border-color: transparent;\n",
              "      border-left-color: var(--fill-color);\n",
              "      border-top-color: var(--fill-color);\n",
              "      border-right-color: var(--fill-color);\n",
              "    }\n",
              "    40% {\n",
              "      border-color: transparent;\n",
              "      border-right-color: var(--fill-color);\n",
              "      border-top-color: var(--fill-color);\n",
              "    }\n",
              "    60% {\n",
              "      border-color: transparent;\n",
              "      border-right-color: var(--fill-color);\n",
              "    }\n",
              "    80% {\n",
              "      border-color: transparent;\n",
              "      border-right-color: var(--fill-color);\n",
              "      border-bottom-color: var(--fill-color);\n",
              "    }\n",
              "    90% {\n",
              "      border-color: transparent;\n",
              "      border-bottom-color: var(--fill-color);\n",
              "    }\n",
              "  }\n",
              "</style>\n",
              "\n",
              "  <script>\n",
              "    async function quickchart(key) {\n",
              "      const quickchartButtonEl =\n",
              "        document.querySelector('#' + key + ' button');\n",
              "      quickchartButtonEl.disabled = true;  // To prevent multiple clicks.\n",
              "      quickchartButtonEl.classList.add('colab-df-spinner');\n",
              "      try {\n",
              "        const charts = await google.colab.kernel.invokeFunction(\n",
              "            'suggestCharts', [key], {});\n",
              "      } catch (error) {\n",
              "        console.error('Error during call to suggestCharts:', error);\n",
              "      }\n",
              "      quickchartButtonEl.classList.remove('colab-df-spinner');\n",
              "      quickchartButtonEl.classList.add('colab-df-quickchart-complete');\n",
              "    }\n",
              "    (() => {\n",
              "      let quickchartButtonEl =\n",
              "        document.querySelector('#df-2b3ff491-4d76-4a62-aab4-c40c26c378fe button');\n",
              "      quickchartButtonEl.style.display =\n",
              "        google.colab.kernel.accessAllowed ? 'block' : 'none';\n",
              "    })();\n",
              "  </script>\n",
              "</div>\n",
              "\n",
              "    </div>\n",
              "  </div>\n"
            ],
            "application/vnd.google.colaboratory.intrinsic+json": {
              "type": "dataframe",
              "summary": "{\n  \"name\": \"                                                'max'])\",\n  \"rows\": 2,\n  \"fields\": [\n    {\n      \"column\": [\n        \"group\",\n        \"\"\n      ],\n      \"properties\": {\n        \"dtype\": \"string\",\n        \"num_unique_values\": 2,\n        \"samples\": [\n          \"test\",\n          \"control\"\n        ],\n        \"semantic_type\": \"\",\n        \"description\": \"\"\n      }\n    },\n    {\n      \"column\": [\n        \"views\",\n        \"min\"\n      ],\n      \"properties\": {\n        \"dtype\": \"number\",\n        \"std\": 0.0,\n        \"min\": 1.0,\n        \"max\": 1.0,\n        \"num_unique_values\": 1,\n        \"samples\": [\n          1.0\n        ],\n        \"semantic_type\": \"\",\n        \"description\": \"\"\n      }\n    },\n    {\n      \"column\": [\n        \"views\",\n        \"mean\"\n      ],\n      \"properties\": {\n        \"dtype\": \"number\",\n        \"std\": 0.055934097250662625,\n        \"min\": 4.709786500464129,\n        \"max\": 4.788889259395112,\n        \"num_unique_values\": 2,\n        \"samples\": [\n          4.788889259395112\n        ],\n        \"semantic_type\": \"\",\n        \"description\": \"\"\n      }\n    },\n    {\n      \"column\": [\n        \"views\",\n        \"median\"\n      ],\n      \"properties\": {\n        \"dtype\": \"number\",\n        \"std\": 0.0,\n        \"min\": 3.0,\n        \"max\": 3.0,\n        \"num_unique_values\": 1,\n        \"samples\": [\n          3.0\n        ],\n        \"semantic_type\": \"\",\n        \"description\": \"\"\n      }\n    },\n    {\n      \"column\": [\n        \"views\",\n        \"max\"\n      ],\n      \"properties\": {\n        \"dtype\": \"number\",\n        \"std\": 0.0,\n        \"min\": 36.0,\n        \"max\": 36.0,\n        \"num_unique_values\": 1,\n        \"samples\": [\n          36.0\n        ],\n        \"semantic_type\": \"\",\n        \"description\": \"\"\n      }\n    },\n    {\n      \"column\": [\n        \"clicks\",\n        \"min\"\n      ],\n      \"properties\": {\n        \"dtype\": \"number\",\n        \"std\": 0.0,\n        \"min\": 0.0,\n        \"max\": 0.0,\n        \"num_unique_values\": 1,\n        \"samples\": [\n          0.0\n        ],\n        \"semantic_type\": \"\",\n        \"description\": \"\"\n      }\n    },\n    {\n      \"column\": [\n        \"clicks\",\n        \"mean\"\n      ],\n      \"properties\": {\n        \"dtype\": \"number\",\n        \"std\": 0.010436419437404521,\n        \"min\": 0.3406709985413075,\n        \"max\": 0.35543032445229916,\n        \"num_unique_values\": 2,\n        \"samples\": [\n          0.35543032445229916\n        ],\n        \"semantic_type\": \"\",\n        \"description\": \"\"\n      }\n    },\n    {\n      \"column\": [\n        \"clicks\",\n        \"median\"\n      ],\n      \"properties\": {\n        \"dtype\": \"number\",\n        \"std\": 0.0,\n        \"min\": 0.0,\n        \"max\": 0.0,\n        \"num_unique_values\": 1,\n        \"samples\": [\n          0.0\n        ],\n        \"semantic_type\": \"\",\n        \"description\": \"\"\n      }\n    },\n    {\n      \"column\": [\n        \"clicks\",\n        \"max\"\n      ],\n      \"properties\": {\n        \"dtype\": \"number\",\n        \"std\": 0.0,\n        \"min\": 4.0,\n        \"max\": 4.0,\n        \"num_unique_values\": 1,\n        \"samples\": [\n          4.0\n        ],\n        \"semantic_type\": \"\",\n        \"description\": \"\"\n      }\n    }\n  ]\n}"
            }
          },
          "metadata": {},
          "execution_count": 13
        }
      ]
    },
    {
      "cell_type": "markdown",
      "source": [
        "#Views A/B Testing"
      ],
      "metadata": {
        "id": "7gsGD8qVqbDG"
      }
    },
    {
      "cell_type": "code",
      "source": [
        "control_views = data[data['group'] == 'control']['views']\n",
        "test_views = data[data['group'] == 'test']['views']"
      ],
      "metadata": {
        "id": "LF7RomV6s-h-"
      },
      "execution_count": 14,
      "outputs": []
    },
    {
      "cell_type": "code",
      "source": [
        "control_views.hist(color = 'red', bins = 30)\n",
        "test_views.hist(color = 'blue', bins = 30)"
      ],
      "metadata": {
        "colab": {
          "base_uri": "https://localhost:8080/",
          "height": 450
        },
        "id": "xk9GwCAExS_t",
        "outputId": "303cb708-13bd-425f-ade1-d8bf7ccb6127"
      },
      "execution_count": 15,
      "outputs": [
        {
          "output_type": "execute_result",
          "data": {
            "text/plain": [
              "<Axes: >"
            ]
          },
          "metadata": {},
          "execution_count": 15
        },
        {
          "output_type": "display_data",
          "data": {
            "text/plain": [
              "<Figure size 640x480 with 1 Axes>"
            ],
            "image/png": "[encoded data removed]"
          },
          "metadata": {}
        }
      ]
    },
    {
      "cell_type": "code",
      "source": [
        "shapiro(control_views.sample(5000))[1] < 0.01"
      ],
      "metadata": {
        "colab": {
          "base_uri": "https://localhost:8080/"
        },
        "id": "-j-gNItjONt-",
        "outputId": "6ade1b4b-1984-45a1-90aa-87c328857bba"
      },
      "execution_count": 16,
      "outputs": [
        {
          "output_type": "execute_result",
          "data": {
            "text/plain": [
              "True"
            ]
          },
          "metadata": {},
          "execution_count": 16
        }
      ]
    },
    {
      "cell_type": "markdown",
      "source": [
        "H0: hypothesis of distribution normality is rejested as pvalue is extremely low. It is visually seen on the plot as well.\n",
        "\n",
        "Given the large sample size of 30,000 observations in each group, we can consider decreasing the alpha level from 0.05 to 0.01 to reduce the risk of a Type I error.\n",
        "Data distribution has a long tail so we are going to use median as a reference.\n",
        "\n",
        "Given the non-normal distribution of the data and the presence of outliers, a parametric test like the t-test is inappropriate. A non-parametric alternative is necessary. The Mann-Whitney U test and Mood's Median test are suitable because they compare the medians of two independent groups, assuming similar distributions."
      ],
      "metadata": {
        "id": "L9HoBJz7Ph_2"
      }
    },
    {
      "cell_type": "markdown",
      "source": [
        "**H0: Median of control sample = Median of test sample**\n",
        "\n",
        "**H1: Median of control sample != Median of test sample**"
      ],
      "metadata": {
        "id": "OQGwJfN1sEnm"
      }
    },
    {
      "cell_type": "code",
      "source": [
        "from scipy.stats import median_test\n",
        "\n",
        "statistic, p_value, _, _ = median_test(control_views, test_views)\n",
        "\n",
        "print(\"Mood's Statistics:\", statistic)\n",
        "print(\"Mood's P-value:\", p_value)"
      ],
      "metadata": {
        "colab": {
          "base_uri": "https://localhost:8080/"
        },
        "id": "-Arf--zUdxcl",
        "outputId": "06b14c97-eeb0-4600-89a3-b5d522ec8d07"
      },
      "execution_count": 17,
      "outputs": [
        {
          "output_type": "stream",
          "name": "stdout",
          "text": [
            "Mood's Statistics: 0.7544942779145777\n",
            "Mood's P-value: 0.3850570355305285\n"
          ]
        }
      ]
    },
    {
      "cell_type": "code",
      "source": [
        "alpha = 0.05\n",
        "n1, n2 = len(control_views), len(test_views)\n",
        "\n",
        "mean_mood = 0\n",
        "std_mood = 1\n",
        "\n",
        "mood_values = np.linspace(mean_mood - 4*std_mood,\n",
        "                          mean_mood + 4*std_mood,\n",
        "                          1000)\n",
        "normal_mood_dist = stats.norm.pdf(mood_values,\n",
        "                                  mean_mood,\n",
        "                                  std_mood)\n",
        "\n",
        "plt.figure(figsize = (6, 4))\n",
        "plt.plot(mood_values,\n",
        "         normal_mood_dist,\n",
        "         label = 'Approximated Mood’s Test Distribution (Normal)',\n",
        "         color = 'blue')\n",
        "\n",
        "critical_value_low = stats.norm.ppf(alpha / 2)\n",
        "critical_value_high = stats.norm.ppf(1 - alpha / 2)\n",
        "plt.fill_between(mood_values,\n",
        "                 0,\n",
        "                 normal_mood_dist,\n",
        "                 where = (mood_values < critical_value_low) | (mood_values > critical_value_high),\n",
        "                 color = 'red',\n",
        "                 alpha = 0.5,\n",
        "                 label = \"Rejection Area (α = 0.05)\")\n",
        "\n",
        "plt.axvline(x = statistic,\n",
        "            color = 'green',\n",
        "            linestyle = '--',\n",
        "            label = f'Mood’s Statistic (U = {statistic:.2f})')\n",
        "\n",
        "plt.title(\"Mood’s Median Test: Distribution and Rejection Areas\")\n",
        "plt.xlabel(\"Test Statistic (Mood’s)\")\n",
        "plt.ylabel(\"Density\")\n",
        "plt.legend()\n",
        "plt.grid(True)\n",
        "plt.show()"
      ],
      "metadata": {
        "colab": {
          "base_uri": "https://localhost:8080/",
          "height": 410
        },
        "id": "2RynXzwlcEcG",
        "outputId": "e477ad34-592b-4cb2-f723-fd0157d96bed"
      },
      "execution_count": 18,
      "outputs": [
        {
          "output_type": "display_data",
          "data": {
            "text/plain": [
              "<Figure size 600x400 with 1 Axes>"
            ],
            "image/png": "[encoded data removed]"
          },
          "metadata": {}
        }
      ]
    },
    {
      "cell_type": "markdown",
      "source": [
        "**H0: The distributions of control sample and test sample are identical.**\n",
        "\n",
        "**H1: The distributions of control sample and test sample are different.**"
      ],
      "metadata": {
        "id": "XNHptWVptXla"
      }
    },
    {
      "cell_type": "code",
      "source": [
        "from scipy.stats import mannwhitneyu\n",
        "statistic, p_value = mannwhitneyu(control_views, test_views)\n",
        "print(\"MannWhitneyu's Statistics:\", statistic)\n",
        "print(\"MannWhitneyu's P-value:\", p_value)"
      ],
      "metadata": {
        "colab": {
          "base_uri": "https://localhost:8080/"
        },
        "id": "4p-cjNcE5OtC",
        "outputId": "7bc7a293-121f-4504-f643-bbe33755c8c6"
      },
      "execution_count": 19,
      "outputs": [
        {
          "output_type": "stream",
          "name": "stdout",
          "text": [
            "MannWhitneyu's Statistics: 450129755.5\n",
            "MannWhitneyu's P-value: 0.30420956175658076\n"
          ]
        }
      ]
    },
    {
      "cell_type": "code",
      "source": [
        "alpha = 0.05\n",
        "n1, n2 = len(control_views), len(test_views)\n",
        "\n",
        "mean_u = (n1 * n2) / 2\n",
        "std_u = np.sqrt(n1 * n2 * (n1 + n2 + 1) / 12)\n",
        "\n",
        "u_values = np.linspace(mean_u - 4*std_u,\n",
        "                       mean_u + 4*std_u,\n",
        "                       1000)\n",
        "normal_dist = stats.norm.pdf(u_values,\n",
        "                             mean_u,\n",
        "                             std_u)\n",
        "\n",
        "plt.figure(figsize = (6, 4))\n",
        "plt.plot(u_values,\n",
        "         normal_dist,\n",
        "         label = 'U Distribution (Normal)',\n",
        "         color = 'blue')\n",
        "\n",
        "critical_value_low = mean_u - stats.norm.ppf(1 - alpha / 2) * std_u\n",
        "critical_value_high = mean_u + stats.norm.ppf(1 - alpha / 2) * std_u\n",
        "plt.fill_between(u_values,\n",
        "                 0,\n",
        "                 normal_dist,\n",
        "                 where = (u_values < critical_value_low) | (u_values > critical_value_high),\n",
        "                 color = 'red',\n",
        "                 alpha = 0.5,\n",
        "                 label = \"Rejection Area (α = 0.05)\")\n",
        "\n",
        "plt.axvline(x = statistic,\n",
        "            color = 'green',\n",
        "            linestyle = '--',\n",
        "            label = f'Mann-Whitney U Statistic (U = {statistic:.2f})')\n",
        "\n",
        "plt.title(\"Mann-Whitney U Test: Distribution and Rejection Areas\")\n",
        "plt.xlabel(\"U-statistic\")\n",
        "plt.ylabel(\"Density\")\n",
        "plt.legend()\n",
        "plt.grid(True)\n",
        "plt.show()"
      ],
      "metadata": {
        "colab": {
          "base_uri": "https://localhost:8080/",
          "height": 425
        },
        "id": "6j3fN2Q_cA9r",
        "outputId": "f648f67e-9722-449f-ce4e-4d1550485931"
      },
      "execution_count": 20,
      "outputs": [
        {
          "output_type": "display_data",
          "data": {
            "text/plain": [
              "<Figure size 600x400 with 1 Axes>"
            ],
            "image/png": "[encoded data removed]"
          },
          "metadata": {}
        }
      ]
    },
    {
      "cell_type": "markdown",
      "source": [
        "##Conclusion on Views"
      ],
      "metadata": {
        "id": "VoGjcckH-QvW"
      }
    },
    {
      "cell_type": "markdown",
      "source": [
        "The results from both Mood's Median Test and Mann-Whitney U Test indicate that we fail to reject the null hypothesis. This suggests that there is no statistically significant difference in the amount of views between the control and test groups.\n",
        "\n",
        "According to Mood's Median Test, there is a 38.5% chance that the medians of the two groups could be equal, given the observed data. Similarly, the Mann-Whitney U Test indicates a 30.4% chance that the distributions of the two groups are similar.\n",
        "\n",
        "Both p-values exceed the common significance level of 0.05, further supporting the conclusion that there is no significant difference between the control and test groups."
      ],
      "metadata": {
        "id": "A9ulDMiS-8RA"
      }
    },
    {
      "cell_type": "markdown",
      "source": [
        "#Clicks A/B Testing"
      ],
      "metadata": {
        "id": "0b_r6oP85YJs"
      }
    },
    {
      "cell_type": "code",
      "source": [
        "control_clicks = data[data['group'] == 'control']['clicks']\n",
        "test_clicks = data[data['group'] == 'test']['clicks']"
      ],
      "metadata": {
        "id": "74IMZ3cJ8vaI"
      },
      "execution_count": 21,
      "outputs": []
    },
    {
      "cell_type": "code",
      "source": [
        "control_clicks.hist(color = 'red', bins = 30)\n",
        "test_clicks.hist(color = 'blue', bins = 30)"
      ],
      "metadata": {
        "colab": {
          "base_uri": "https://localhost:8080/",
          "height": 447
        },
        "outputId": "d0b0088b-8e53-42a8-f4e0-1c3941555971",
        "id": "NDFrk33Q8vaJ"
      },
      "execution_count": 22,
      "outputs": [
        {
          "output_type": "execute_result",
          "data": {
            "text/plain": [
              "<Axes: >"
            ]
          },
          "metadata": {},
          "execution_count": 22
        },
        {
          "output_type": "display_data",
          "data": {
            "text/plain": [
              "<Figure size 640x480 with 1 Axes>"
            ],
            "image/png": "[encoded data removed]"
          },
          "metadata": {}
        }
      ]
    },
    {
      "cell_type": "code",
      "source": [
        "shapiro(control_clicks.sample(5000))[1] < 0.01"
      ],
      "metadata": {
        "colab": {
          "base_uri": "https://localhost:8080/"
        },
        "outputId": "d6c27911-f3ce-44db-a915-ddedf7d60a77",
        "id": "04pssC6B8vaK"
      },
      "execution_count": 23,
      "outputs": [
        {
          "output_type": "execute_result",
          "data": {
            "text/plain": [
              "True"
            ]
          },
          "metadata": {},
          "execution_count": 23
        }
      ]
    },
    {
      "cell_type": "markdown",
      "source": [
        "H0: hypothesis of distribution normality is rejested as pvalue is extremely low. It is visually seen on the plot as well.\n",
        "\n",
        "Given the large sample size of 30,000 observations in each group, we can consider decreasing the alpha level from 0.05 to 0.01 to reduce the risk of a Type I error.\n",
        "Data distribution has a long tail so we are going to use median as a reference.\n",
        "\n",
        "Given the non-normal distribution of the data and the presence of outliers, a parametric test like the t-test is inappropriate. A non-parametric alternative is necessary. The Mann-Whitney U test is suitable because it compares the medians of two independent groups, assuming similar distributions.\n"
      ],
      "metadata": {
        "id": "GtP2toJf8vaK"
      }
    },
    {
      "cell_type": "markdown",
      "source": [
        "**H0: Median of control sample = Median of test sample**\n",
        "\n",
        "**H1: Median of control sample != Median of test sample**"
      ],
      "metadata": {
        "id": "scyK_RbltGve"
      }
    },
    {
      "cell_type": "code",
      "source": [
        "statistic, p_value, _, _ = median_test(control_clicks, test_clicks)\n",
        "print(\"Mood's Statistics:\", statistic)\n",
        "print(\"Mood's P-value:\", p_value)"
      ],
      "metadata": {
        "colab": {
          "base_uri": "https://localhost:8080/"
        },
        "outputId": "0225bf8b-83e2-4e94-f369-e7d77e3fc08c",
        "id": "WE2HrvYx8vaL"
      },
      "execution_count": 24,
      "outputs": [
        {
          "output_type": "stream",
          "name": "stdout",
          "text": [
            "Mood's Statistics: 5.84188813860817\n",
            "Mood's P-value: 0.015649024786002372\n"
          ]
        }
      ]
    },
    {
      "cell_type": "code",
      "source": [
        "alpha = 0.05\n",
        "n1, n2 = len(control_clicks), len(test_clicks)\n",
        "\n",
        "mean_mood = 0\n",
        "std_mood = 1\n",
        "\n",
        "mood_values = np.linspace(mean_mood - 4*std_mood,\n",
        "                          mean_mood + 4*std_mood,\n",
        "                          1000)\n",
        "normal_mood_dist = stats.norm.pdf(mood_values,\n",
        "                                  mean_mood,\n",
        "                                  std_mood)\n",
        "\n",
        "plt.figure(figsize = (6, 4))\n",
        "plt.plot(mood_values,\n",
        "         normal_mood_dist,\n",
        "         label = 'Approximated Mood’s Test Distribution (Normal)',\n",
        "         color = 'blue')\n",
        "\n",
        "critical_value_low = stats.norm.ppf(alpha / 2)\n",
        "critical_value_high = stats.norm.ppf(1 - alpha / 2)\n",
        "plt.fill_between(mood_values,\n",
        "                 0,\n",
        "                 normal_mood_dist,\n",
        "                 where = (mood_values < critical_value_low) | (mood_values > critical_value_high),\n",
        "                 color = 'red',\n",
        "                 alpha = 0.5,\n",
        "                 label = \"Rejection Area (α = 0.05)\")\n",
        "\n",
        "plt.axvline(x = statistic,\n",
        "            color = 'green',\n",
        "            linestyle = '--',\n",
        "            label = f'Mood’s Statistic (U = {statistic:.2f})')\n",
        "\n",
        "plt.title(\"Mood’s Median Test: Distribution and Rejection Areas\")\n",
        "plt.xlabel(\"Test Statistic (Mood’s)\")\n",
        "plt.ylabel(\"Density\")\n",
        "plt.legend()\n",
        "plt.grid(True)\n",
        "plt.show()"
      ],
      "metadata": {
        "colab": {
          "base_uri": "https://localhost:8080/",
          "height": 410
        },
        "id": "uGrbL6wZeAIY",
        "outputId": "c21f7f9c-2464-4176-c658-a97ecbc7a1ca"
      },
      "execution_count": 25,
      "outputs": [
        {
          "output_type": "display_data",
          "data": {
            "text/plain": [
              "<Figure size 600x400 with 1 Axes>"
            ],
            "image/png": "[encoded data removed]"
          },
          "metadata": {}
        }
      ]
    },
    {
      "cell_type": "markdown",
      "source": [
        "**H0: The distributions of control sample and test sample are identical.**\n",
        "\n",
        "**H1: The distributions of control sample and test sample are different.**"
      ],
      "metadata": {
        "id": "x6yDv8UKtw3j"
      }
    },
    {
      "cell_type": "code",
      "source": [
        "statistic, p_value = mannwhitneyu(control_clicks, test_clicks)\n",
        "print(\"MannWhitneyu's Statistics:\", statistic)\n",
        "print(\"MannWhitneyu's P-value:\", p_value)"
      ],
      "metadata": {
        "colab": {
          "base_uri": "https://localhost:8080/"
        },
        "outputId": "ea3c82a3-9b58-4b7b-fef5-f1938e3f0e9c",
        "id": "8xkc6E4R8vaL"
      },
      "execution_count": 26,
      "outputs": [
        {
          "output_type": "stream",
          "name": "stdout",
          "text": [
            "MannWhitneyu's Statistics: 448055609.0\n",
            "MannWhitneyu's P-value: 0.010333226673961301\n"
          ]
        }
      ]
    },
    {
      "cell_type": "code",
      "source": [
        "alpha = 0.05\n",
        "n1, n2 = len(control_clicks), len(test_clicks)\n",
        "\n",
        "mean_u = (n1 * n2) / 2\n",
        "std_u = np.sqrt(n1 * n2 * (n1 + n2 + 1) / 12)\n",
        "\n",
        "u_values = np.linspace(mean_u - 4*std_u,\n",
        "                       mean_u + 4*std_u,\n",
        "                       1000)\n",
        "normal_dist = stats.norm.pdf(u_values,\n",
        "                             mean_u, std_u)\n",
        "\n",
        "plt.figure(figsize = (6, 4))\n",
        "plt.plot(u_values,\n",
        "         normal_dist,\n",
        "         label = 'U Distribution (Normal)',\n",
        "         color = 'blue')\n",
        "\n",
        "critical_value_low = mean_u - stats.norm.ppf(1 - alpha / 2) * std_u\n",
        "critical_value_high = mean_u + stats.norm.ppf(1 - alpha / 2) * std_u\n",
        "plt.fill_between(u_values,\n",
        "                 0,\n",
        "                 normal_dist,\n",
        "                 where = (u_values < critical_value_low) | (u_values > critical_value_high),\n",
        "                 color = 'red',\n",
        "                 alpha = 0.5,\n",
        "                 label = \"Rejection Area (α = 0.05)\")\n",
        "\n",
        "plt.axvline(x = statistic,\n",
        "            color = 'green',\n",
        "            linestyle = '--',\n",
        "            label = f'Mann-Whitney U Statistic (U = {statistic:.2f})')\n",
        "\n",
        "plt.title(\"Mann-Whitney U Test: Distribution and Rejection Areas\")\n",
        "plt.xlabel(\"U-statistic\")\n",
        "plt.ylabel(\"Density\")\n",
        "plt.legend()\n",
        "plt.grid(True)\n",
        "plt.show()"
      ],
      "metadata": {
        "colab": {
          "base_uri": "https://localhost:8080/",
          "height": 425
        },
        "id": "wt4KFnAod6kw",
        "outputId": "3e379e60-1de8-4f9b-bab9-35076150e4f9"
      },
      "execution_count": 27,
      "outputs": [
        {
          "output_type": "display_data",
          "data": {
            "text/plain": [
              "<Figure size 600x400 with 1 Axes>"
            ],
            "image/png": "[encoded data removed]"
          },
          "metadata": {}
        }
      ]
    },
    {
      "cell_type": "markdown",
      "source": [
        "##Conclusion on Clicks"
      ],
      "metadata": {
        "id": "fvf72P-pDbc-"
      }
    },
    {
      "cell_type": "markdown",
      "source": [
        "The results from both Mood's Median Test and Mann-Whitney U Test indicate that we reject the null hypothesis. This suggests that there is a statistically significant difference in the number of clicks between the control and test groups.\n",
        "\n",
        "According to Mood's Median Test, there is only a 1.56% chance that the medians of the two groups could be equal, given the observed data. Similarly, the Mann-Whitney U Test indicates a 1.03% chance that the distributions of the two groups are similar.\n",
        "\n",
        "Both p-values are below the common significance level of 0.05, further supporting the conclusion that there is a significant difference between the control and test groups."
      ],
      "metadata": {
        "id": "BLhA5oBKDXx1"
      }
    },
    {
      "cell_type": "markdown",
      "source": [
        "#Overall Conclusion"
      ],
      "metadata": {
        "id": "0wS5ZfnzIGbV"
      }
    },
    {
      "cell_type": "markdown",
      "source": [
        "A comprehensive A/B test comparison of the control and test groups revealed distinct user behavioral patterns. While both groups exhibited similar overall page view metrics, the test group demonstrated a statistically significant increase in click-through rates on specific elements, such as the primary call-to-action button and the featured product image.\n",
        "\n",
        "The increased click-through rates in the test group indicate that the changes made were more appealing to users and motivated them to take actions."
      ],
      "metadata": {
        "id": "iQ_7hPhoIKn8"
      }
    }
  ]
}