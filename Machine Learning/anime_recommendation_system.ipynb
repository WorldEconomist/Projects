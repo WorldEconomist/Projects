{
 "cells": [
  {
   "cell_type": "markdown",
   "id": "16620e86-4366-4525-992d-fd37a0ca08ae",
   "metadata": {},
   "source": [
    "#### This is the notebook for general purposes. Code from here will be used in an **anime-bot** repo"
   ]
  },
  {
   "cell_type": "code",
   "execution_count": null,
   "id": "482a4986-0761-4a64-b609-d1cb8cc022b8",
   "metadata": {},
   "outputs": [],
   "source": []
  }
 ],
 "metadata": {
  "kernelspec": {
   "display_name": "Python 3 (ipykernel)",
   "language": "python",
   "name": "python3"
  },
  "language_info": {
   "codemirror_mode": {
    "name": "ipython",
    "version": 3
   },
   "file_extension": ".py",
   "mimetype": "text/x-python",
   "name": "python",
   "nbconvert_exporter": "python",
   "pygments_lexer": "ipython3",
   "version": "3.11.5"
  }
 },
 "nbformat": 4,
 "nbformat_minor": 5
}
