{
 "cells": [
  {
   "cell_type": "code",
   "execution_count": 1,
   "id": "926d9e47-0636-4830-b02e-252ac33fa1f8",
   "metadata": {},
   "outputs": [],
   "source": [
    "import os\n",
    "from dotenv import load_dotenv\n",
    "\n",
    "import pandas as pd\n",
    "from sqlalchemy import create_engine, inspect"
   ]
  },
  {
   "cell_type": "code",
   "execution_count": 2,
   "id": "508b1ea0-1739-4178-8ee1-5392085498d2",
   "metadata": {},
   "outputs": [
    {
     "data": {
      "text/plain": [
       "True"
      ]
     },
     "execution_count": 2,
     "metadata": {},
     "output_type": "execute_result"
    }
   ],
   "source": [
    "load_dotenv()"
   ]
  },
  {
   "cell_type": "code",
   "execution_count": 3,
   "id": "23984ecc-2c72-45ed-9a46-5e8118109587",
   "metadata": {},
   "outputs": [],
   "source": [
    "db_user = os.getenv('DB_USER')\n",
    "db_password = os.getenv('DB_PASSWORD')\n",
    "db_host = os.getenv('DB_HOST')\n",
    "db_name = os.getenv('DB_NAME')"
   ]
  },
  {
   "cell_type": "code",
   "execution_count": 4,
   "id": "f28f15b7-b371-480d-81da-ecd5e394fd17",
   "metadata": {},
   "outputs": [],
   "source": [
    "DATABASE_URI = f\"mysql+pymysql://{db_user}:{db_password}@{db_host}/{db_name}\""
   ]
  },
  {
   "cell_type": "code",
   "execution_count": 5,
   "id": "d2f3eae5-9abe-4eb1-8ca3-47aaa30671d1",
   "metadata": {},
   "outputs": [],
   "source": [
    "engine = create_engine(DATABASE_URI)"
   ]
  },
  {
   "cell_type": "code",
   "execution_count": 6,
   "id": "2c7200d2-2b46-487d-8678-f02a8a93d2c8",
   "metadata": {},
   "outputs": [],
   "source": [
    "connection = engine.connect()"
   ]
  },
  {
   "cell_type": "code",
   "execution_count": 7,
   "id": "f7f45c3f-b1ba-4bd4-9214-3e29ed7930b7",
   "metadata": {},
   "outputs": [],
   "source": [
    "def select(sql):\n",
    "    return pd.read_sql(sql, connection)"
   ]
  },
  {
   "cell_type": "code",
   "execution_count": 8,
   "id": "6d171913-284b-4c53-af82-16d5f284fe57",
   "metadata": {},
   "outputs": [
    {
     "data": {
      "text/plain": [
       "['active_clients', 'cards', 'categories', 'offers', 'orders']"
      ]
     },
     "execution_count": 8,
     "metadata": {},
     "output_type": "execute_result"
    }
   ],
   "source": [
    "inspect(engine).get_table_names()"
   ]
  },
  {
   "cell_type": "markdown",
   "id": "a36f904f-acb0-4761-a135-c5fdee090af9",
   "metadata": {},
   "source": [
    "# Задача: \n",
    "\n",
    "**Orders** содержит данные о заказах клиентов, **Categories** - дерево категорий на сайте.\n",
    "\n",
    "\n",
    "В\r\n",
    "вычислить заказы категории “Аксессуары для умных часов и фитнес-браслетов”, происходящие в течение недели после дня заказа категории “Смарт-час  и фит н с-\r\n",
    "браслеты”. \r\n",
    "Из этих заказов для каждой подкатегории (Cat4) аксессуаров вывести по топ-5 товаров с наибольшим кол-вом проданных штук.\r\n",
    "\r\n",
    "Итоговый формат может содержать столбцы Cat4, SKU, Qty."
   ]
  },
  {
   "cell_type": "markdown",
   "id": "627c6fcf-29da-4706-ac8e-d83745480fb5",
   "metadata": {},
   "source": [
    "#### Решение без ограничения на топ-5 товаров"
   ]
  },
  {
   "cell_type": "code",
   "execution_count": 9,
   "id": "91d7e1f2-0119-474b-b1a3-8320479bd29b",
   "metadata": {},
   "outputs": [
    {
     "data": {
      "text/html": [
       "<div>\n",
       "<style scoped>\n",
       "    .dataframe tbody tr th:only-of-type {\n",
       "        vertical-align: middle;\n",
       "    }\n",
       "\n",
       "    .dataframe tbody tr th {\n",
       "        vertical-align: top;\n",
       "    }\n",
       "\n",
       "    .dataframe thead th {\n",
       "        text-align: right;\n",
       "    }\n",
       "</style>\n",
       "<table border=\"1\" class=\"dataframe\">\n",
       "  <thead>\n",
       "    <tr style=\"text-align: right;\">\n",
       "      <th></th>\n",
       "      <th>Cat4</th>\n",
       "      <th>SKU</th>\n",
       "      <th>Qty</th>\n",
       "    </tr>\n",
       "  </thead>\n",
       "  <tbody>\n",
       "    <tr>\n",
       "      <th>0</th>\n",
       "      <td>Зарядные устройства для фитнес-браслетов</td>\n",
       "      <td>291658525</td>\n",
       "      <td>2.0</td>\n",
       "    </tr>\n",
       "    <tr>\n",
       "      <th>1</th>\n",
       "      <td>Зарядные устройства для фитнес-браслетов</td>\n",
       "      <td>652194567</td>\n",
       "      <td>2.0</td>\n",
       "    </tr>\n",
       "    <tr>\n",
       "      <th>2</th>\n",
       "      <td>Зарядные устройства для фитнес-браслетов</td>\n",
       "      <td>625537438</td>\n",
       "      <td>1.0</td>\n",
       "    </tr>\n",
       "    <tr>\n",
       "      <th>3</th>\n",
       "      <td>Зарядные устройства для фитнес-браслетов</td>\n",
       "      <td>597348762</td>\n",
       "      <td>1.0</td>\n",
       "    </tr>\n",
       "    <tr>\n",
       "      <th>4</th>\n",
       "      <td>Защитные стекла и пленки для смарт-часов</td>\n",
       "      <td>322418543</td>\n",
       "      <td>3.0</td>\n",
       "    </tr>\n",
       "    <tr>\n",
       "      <th>...</th>\n",
       "      <td>...</td>\n",
       "      <td>...</td>\n",
       "      <td>...</td>\n",
       "    </tr>\n",
       "    <tr>\n",
       "      <th>110</th>\n",
       "      <td>Ремешки для фитнес-браслетов</td>\n",
       "      <td>636948298</td>\n",
       "      <td>1.0</td>\n",
       "    </tr>\n",
       "    <tr>\n",
       "      <th>111</th>\n",
       "      <td>Ремешки для фитнес-браслетов</td>\n",
       "      <td>438590735</td>\n",
       "      <td>1.0</td>\n",
       "    </tr>\n",
       "    <tr>\n",
       "      <th>112</th>\n",
       "      <td>Ремешки для фитнес-браслетов</td>\n",
       "      <td>344056802</td>\n",
       "      <td>1.0</td>\n",
       "    </tr>\n",
       "    <tr>\n",
       "      <th>113</th>\n",
       "      <td>Ремешки для фитнес-браслетов</td>\n",
       "      <td>634459613</td>\n",
       "      <td>1.0</td>\n",
       "    </tr>\n",
       "    <tr>\n",
       "      <th>114</th>\n",
       "      <td>Чехлы и украшения для смарт-часов</td>\n",
       "      <td>265863888</td>\n",
       "      <td>2.0</td>\n",
       "    </tr>\n",
       "  </tbody>\n",
       "</table>\n",
       "<p>115 rows × 3 columns</p>\n",
       "</div>"
      ],
      "text/plain": [
       "                                         Cat4        SKU  Qty\n",
       "0    Зарядные устройства для фитнес-браслетов  291658525  2.0\n",
       "1    Зарядные устройства для фитнес-браслетов  652194567  2.0\n",
       "2    Зарядные устройства для фитнес-браслетов  625537438  1.0\n",
       "3    Зарядные устройства для фитнес-браслетов  597348762  1.0\n",
       "4    Защитные стекла и пленки для смарт-часов  322418543  3.0\n",
       "..                                        ...        ...  ...\n",
       "110              Ремешки для фитнес-браслетов  636948298  1.0\n",
       "111              Ремешки для фитнес-браслетов  438590735  1.0\n",
       "112              Ремешки для фитнес-браслетов  344056802  1.0\n",
       "113              Ремешки для фитнес-браслетов  634459613  1.0\n",
       "114         Чехлы и украшения для смарт-часов  265863888  2.0\n",
       "\n",
       "[115 rows x 3 columns]"
      ]
     },
     "execution_count": 9,
     "metadata": {},
     "output_type": "execute_result"
    }
   ],
   "source": [
    "sql = '''\n",
    "\n",
    "    WITH cte as (\n",
    "                SELECT o.ClientID,\n",
    "                       c.Cat3,\n",
    "                       c.Cat4,\n",
    "                       o.SKU,\n",
    "                       o.Date\n",
    "                FROM orders o \n",
    "                LEFT JOIN categories c\n",
    "                ON o.Cat4ID = c.Cat4ID\n",
    "                WHERE c.Cat3ID = 4583213310474409984\n",
    "                )\n",
    "                \n",
    "    SELECT c.Cat4,\n",
    "           o.SKU,\n",
    "           SUM(o.Qty) as Qty\n",
    "    FROM orders o \n",
    "    LEFT JOIN categories c ON o.Cat4ID = c.Cat4ID\n",
    "    LEFT JOIN cte ON o.ClientID = cte.ClientID \n",
    "                 AND DATEDIFF(DAY(o.Date), DAY(cte.Date)) BETWEEN 0 AND 7\n",
    "    WHERE c.Cat3ID = 5368148236671620096\n",
    "    GROUP BY c.Cat4, o.SKU\n",
    "    ORDER BY c.Cat4, Qty DESC\n",
    "    \n",
    "      '''\n",
    "\n",
    "select(sql)"
   ]
  },
  {
   "cell_type": "markdown",
   "id": "640ea382-8c2a-47cc-b71e-c6a5f2692401",
   "metadata": {},
   "source": [
    "#### Решение c ограничением на топ-5 товаров по DENSE_RANK() по количеству. Возможно, это получится сделать более красиво, но в целом концепция решения та же, что и без топа, просто всё выброшено в CTE."
   ]
  },
  {
   "cell_type": "code",
   "execution_count": 10,
   "id": "bce588f9-4618-4c1e-a44a-25fe95f3fab0",
   "metadata": {},
   "outputs": [
    {
     "data": {
      "text/html": [
       "<div>\n",
       "<style scoped>\n",
       "    .dataframe tbody tr th:only-of-type {\n",
       "        vertical-align: middle;\n",
       "    }\n",
       "\n",
       "    .dataframe tbody tr th {\n",
       "        vertical-align: top;\n",
       "    }\n",
       "\n",
       "    .dataframe thead th {\n",
       "        text-align: right;\n",
       "    }\n",
       "</style>\n",
       "<table border=\"1\" class=\"dataframe\">\n",
       "  <thead>\n",
       "    <tr style=\"text-align: right;\">\n",
       "      <th></th>\n",
       "      <th>Cat4</th>\n",
       "      <th>SKU</th>\n",
       "      <th>Qty</th>\n",
       "    </tr>\n",
       "  </thead>\n",
       "  <tbody>\n",
       "    <tr>\n",
       "      <th>0</th>\n",
       "      <td>Зарядные устройства для фитнес-браслетов</td>\n",
       "      <td>291658525</td>\n",
       "      <td>2.0</td>\n",
       "    </tr>\n",
       "    <tr>\n",
       "      <th>1</th>\n",
       "      <td>Зарядные устройства для фитнес-браслетов</td>\n",
       "      <td>652194567</td>\n",
       "      <td>2.0</td>\n",
       "    </tr>\n",
       "    <tr>\n",
       "      <th>2</th>\n",
       "      <td>Зарядные устройства для фитнес-браслетов</td>\n",
       "      <td>625537438</td>\n",
       "      <td>1.0</td>\n",
       "    </tr>\n",
       "    <tr>\n",
       "      <th>3</th>\n",
       "      <td>Зарядные устройства для фитнес-браслетов</td>\n",
       "      <td>597348762</td>\n",
       "      <td>1.0</td>\n",
       "    </tr>\n",
       "    <tr>\n",
       "      <th>4</th>\n",
       "      <td>Защитные стекла и пленки для смарт-часов</td>\n",
       "      <td>322418543</td>\n",
       "      <td>3.0</td>\n",
       "    </tr>\n",
       "    <tr>\n",
       "      <th>...</th>\n",
       "      <td>...</td>\n",
       "      <td>...</td>\n",
       "      <td>...</td>\n",
       "    </tr>\n",
       "    <tr>\n",
       "      <th>68</th>\n",
       "      <td>Ремешки для фитнес-браслетов</td>\n",
       "      <td>636948097</td>\n",
       "      <td>7.0</td>\n",
       "    </tr>\n",
       "    <tr>\n",
       "      <th>69</th>\n",
       "      <td>Ремешки для фитнес-браслетов</td>\n",
       "      <td>246970208</td>\n",
       "      <td>5.0</td>\n",
       "    </tr>\n",
       "    <tr>\n",
       "      <th>70</th>\n",
       "      <td>Ремешки для фитнес-браслетов</td>\n",
       "      <td>634457307</td>\n",
       "      <td>4.0</td>\n",
       "    </tr>\n",
       "    <tr>\n",
       "      <th>71</th>\n",
       "      <td>Ремешки для фитнес-браслетов</td>\n",
       "      <td>634457282</td>\n",
       "      <td>4.0</td>\n",
       "    </tr>\n",
       "    <tr>\n",
       "      <th>72</th>\n",
       "      <td>Чехлы и украшения для смарт-часов</td>\n",
       "      <td>265863888</td>\n",
       "      <td>2.0</td>\n",
       "    </tr>\n",
       "  </tbody>\n",
       "</table>\n",
       "<p>73 rows × 3 columns</p>\n",
       "</div>"
      ],
      "text/plain": [
       "                                        Cat4        SKU  Qty\n",
       "0   Зарядные устройства для фитнес-браслетов  291658525  2.0\n",
       "1   Зарядные устройства для фитнес-браслетов  652194567  2.0\n",
       "2   Зарядные устройства для фитнес-браслетов  625537438  1.0\n",
       "3   Зарядные устройства для фитнес-браслетов  597348762  1.0\n",
       "4   Защитные стекла и пленки для смарт-часов  322418543  3.0\n",
       "..                                       ...        ...  ...\n",
       "68              Ремешки для фитнес-браслетов  636948097  7.0\n",
       "69              Ремешки для фитнес-браслетов  246970208  5.0\n",
       "70              Ремешки для фитнес-браслетов  634457307  4.0\n",
       "71              Ремешки для фитнес-браслетов  634457282  4.0\n",
       "72         Чехлы и украшения для смарт-часов  265863888  2.0\n",
       "\n",
       "[73 rows x 3 columns]"
      ]
     },
     "execution_count": 10,
     "metadata": {},
     "output_type": "execute_result"
    }
   ],
   "source": [
    "sql = '''\n",
    "\n",
    "    WITH cte AS (\n",
    "    SELECT o.ClientID,\n",
    "           c.Cat3,\n",
    "           c.Cat4,\n",
    "           o.SKU,\n",
    "           o.Date\n",
    "    FROM orders o \n",
    "    LEFT JOIN categories c\n",
    "    ON o.Cat4ID = c.Cat4ID\n",
    "    WHERE c.Cat3ID = 4583213310474409984\n",
    "    ),\n",
    "    \n",
    "    aggregated_data AS (\n",
    "        SELECT c.Cat4,\n",
    "               o.SKU,\n",
    "               SUM(o.Qty) AS Qty\n",
    "        FROM orders o \n",
    "        LEFT JOIN categories c ON o.Cat4ID = c.Cat4ID\n",
    "        LEFT JOIN cte ON o.ClientID = cte.ClientID \n",
    "                     AND DATEDIFF(DAY(o.Date), DAY(cte.Date)) BETWEEN 0 AND 7\n",
    "        WHERE c.Cat3ID = 5368148236671620096\n",
    "        GROUP BY c.Cat4, o.SKU\n",
    "    ),\n",
    "    \n",
    "    ranked_data AS (\n",
    "        SELECT *,\n",
    "               DENSE_RANK() OVER (PARTITION BY Cat4 ORDER BY Qty DESC) AS rnk\n",
    "        FROM aggregated_data\n",
    "    )\n",
    "    \n",
    "    SELECT Cat4,\n",
    "           SKU,\n",
    "           Qty\n",
    "    FROM ranked_data\n",
    "    WHERE rnk <= 5\n",
    "    ORDER BY Cat4, Qty DESC;\n",
    "\n",
    "      '''\n",
    "\n",
    "select(sql)"
   ]
  },
  {
   "cell_type": "code",
   "execution_count": 11,
   "id": "ab8faa19-1249-4b77-8853-785be90a385a",
   "metadata": {},
   "outputs": [],
   "source": [
    "connection.close()"
   ]
  }
 ],
 "metadata": {
  "kernelspec": {
   "display_name": "Python 3 (ipykernel)",
   "language": "python",
   "name": "python3"
  },
  "language_info": {
   "codemirror_mode": {
    "name": "ipython",
    "version": 3
   },
   "file_extension": ".py",
   "mimetype": "text/x-python",
   "name": "python",
   "nbconvert_exporter": "python",
   "pygments_lexer": "ipython3",
   "version": "3.11.5"
  }
 },
 "nbformat": 4,
 "nbformat_minor": 5
}
