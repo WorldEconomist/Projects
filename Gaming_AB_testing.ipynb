{
  "nbformat": 4,
  "nbformat_minor": 0,
  "metadata": {
    "colab": {
      "provenance": [],
      "authorship_tag": "ABX9TyO5DKtPRb4tojOmmPlZL1sS",
      "include_colab_link": true
    },
    "kernelspec": {
      "name": "python3",
      "display_name": "Python 3"
    },
    "language_info": {
      "name": "python"
    }
  },
  "cells": [
    {
      "cell_type": "markdown",
      "metadata": {
        "id": "view-in-github",
        "colab_type": "text"
      },
      "source": [
        "<a href=\"https://colab.research.google.com/github/WorldEconomist/Projects/blob/main/Gaming_AB_testing.ipynb\" target=\"_parent\"><img src=\"https://colab.research.google.com/assets/colab-badge.svg\" alt=\"Open In Colab\"/></a>"
      ]
    },
    {
      "cell_type": "code",
      "execution_count": 1,
      "metadata": {
        "colab": {
          "base_uri": "https://localhost:8080/"
        },
        "id": "sCCb3W9cWVoB",
        "outputId": "edbb3ce0-5cdf-4b8a-c375-097ef76f50a9"
      },
      "outputs": [
        {
          "output_type": "stream",
          "name": "stdout",
          "text": [
            "Downloading...\n",
            "From: https://drive.google.com/uc?id=1ycWXMBRiKG590geQQBAiZIjbKmWlSoCn\n",
            "To: /content/cookie_cats.csv\n",
            "\r  0% 0.00/2.80M [00:00<?, ?B/s]\r100% 2.80M/2.80M [00:00<00:00, 53.0MB/s]\n"
          ]
        }
      ],
      "source": [
        "!gdown 1ycWXMBRiKG590geQQBAiZIjbKmWlSoCn"
      ]
    },
    {
      "cell_type": "code",
      "source": [
        "import pandas as pd\n",
        "import numpy as np\n",
        "import matplotlib.pyplot as plt\n",
        "import pylab\n",
        "import scipy.stats as stats\n",
        "from statsmodels.stats.proportion import proportions_ztest\n",
        "from tqdm import tqdm"
      ],
      "metadata": {
        "id": "DW5G5iNoXKpk"
      },
      "execution_count": 2,
      "outputs": []
    },
    {
      "cell_type": "code",
      "source": [
        "plt.style.use('dark_background')"
      ],
      "metadata": {
        "id": "JkC-TZAaYsmF"
      },
      "execution_count": 3,
      "outputs": []
    },
    {
      "cell_type": "markdown",
      "source": [
        "The data is about an A/B test with a mobile game, Cookie Cats.\n",
        "\n",
        "**Version** - whether the player was put in the control group (gate_30 - a gate at level 30) or the group with the moved gate (gate_40 - a gate at level 40).\n",
        "\n",
        "**Sum_gamerounds** - The number of game rounds played by the player during the first 14 days after install.\n",
        "\n",
        "**Retention_1** - Did the player come back and play 1 day after installing?\n",
        "\n",
        "**retention_7** - Did the player come back and play 7 days after installing?"
      ],
      "metadata": {
        "id": "BnHp06YEO30H"
      }
    },
    {
      "cell_type": "code",
      "source": [
        "data = pd.read_csv('/content/cookie_cats.csv')"
      ],
      "metadata": {
        "id": "6Q65DUpTXm2H"
      },
      "execution_count": 4,
      "outputs": []
    },
    {
      "cell_type": "code",
      "source": [
        "data.head()"
      ],
      "metadata": {
        "colab": {
          "base_uri": "https://localhost:8080/",
          "height": 206
        },
        "id": "J0sNxt3SXvp5",
        "outputId": "addbee7f-cb17-4887-a7c1-c0bdf83c0705"
      },
      "execution_count": 5,
      "outputs": [
        {
          "output_type": "execute_result",
          "data": {
            "text/plain": [
              "   userid  version  sum_gamerounds  retention_1  retention_7\n",
              "0     116  gate_30               3        False        False\n",
              "1     337  gate_30              38         True        False\n",
              "2     377  gate_40             165         True        False\n",
              "3     483  gate_40               1        False        False\n",
              "4     488  gate_40             179         True         True"
            ],
            "text/html": [
              "\n",
              "  <div id=\"df-2c627bae-92c2-42b9-9a97-e3178058baf9\" class=\"colab-df-container\">\n",
              "    <div>\n",
              "<style scoped>\n",
              "    .dataframe tbody tr th:only-of-type {\n",
              "        vertical-align: middle;\n",
              "    }\n",
              "\n",
              "    .dataframe tbody tr th {\n",
              "        vertical-align: top;\n",
              "    }\n",
              "\n",
              "    .dataframe thead th {\n",
              "        text-align: right;\n",
              "    }\n",
              "</style>\n",
              "<table border=\"1\" class=\"dataframe\">\n",
              "  <thead>\n",
              "    <tr style=\"text-align: right;\">\n",
              "      <th></th>\n",
              "      <th>userid</th>\n",
              "      <th>version</th>\n",
              "      <th>sum_gamerounds</th>\n",
              "      <th>retention_1</th>\n",
              "      <th>retention_7</th>\n",
              "    </tr>\n",
              "  </thead>\n",
              "  <tbody>\n",
              "    <tr>\n",
              "      <th>0</th>\n",
              "      <td>116</td>\n",
              "      <td>gate_30</td>\n",
              "      <td>3</td>\n",
              "      <td>False</td>\n",
              "      <td>False</td>\n",
              "    </tr>\n",
              "    <tr>\n",
              "      <th>1</th>\n",
              "      <td>337</td>\n",
              "      <td>gate_30</td>\n",
              "      <td>38</td>\n",
              "      <td>True</td>\n",
              "      <td>False</td>\n",
              "    </tr>\n",
              "    <tr>\n",
              "      <th>2</th>\n",
              "      <td>377</td>\n",
              "      <td>gate_40</td>\n",
              "      <td>165</td>\n",
              "      <td>True</td>\n",
              "      <td>False</td>\n",
              "    </tr>\n",
              "    <tr>\n",
              "      <th>3</th>\n",
              "      <td>483</td>\n",
              "      <td>gate_40</td>\n",
              "      <td>1</td>\n",
              "      <td>False</td>\n",
              "      <td>False</td>\n",
              "    </tr>\n",
              "    <tr>\n",
              "      <th>4</th>\n",
              "      <td>488</td>\n",
              "      <td>gate_40</td>\n",
              "      <td>179</td>\n",
              "      <td>True</td>\n",
              "      <td>True</td>\n",
              "    </tr>\n",
              "  </tbody>\n",
              "</table>\n",
              "</div>\n",
              "    <div class=\"colab-df-buttons\">\n",
              "\n",
              "  <div class=\"colab-df-container\">\n",
              "    <button class=\"colab-df-convert\" onclick=\"convertToInteractive('df-2c627bae-92c2-42b9-9a97-e3178058baf9')\"\n",
              "            title=\"Convert this dataframe to an interactive table.\"\n",
              "            style=\"display:none;\">\n",
              "\n",
              "  <svg xmlns=\"http://www.w3.org/2000/svg\" height=\"24px\" viewBox=\"0 -960 960 960\">\n",
              "    <path d=\"M120-120v-720h720v720H120Zm60-500h600v-160H180v160Zm220 220h160v-160H400v160Zm0 220h160v-160H400v160ZM180-400h160v-160H180v160Zm440 0h160v-160H620v160ZM180-180h160v-160H180v160Zm440 0h160v-160H620v160Z\"/>\n",
              "  </svg>\n",
              "    </button>\n",
              "\n",
              "  <style>\n",
              "    .colab-df-container {\n",
              "      display:flex;\n",
              "      gap: 12px;\n",
              "    }\n",
              "\n",
              "    .colab-df-convert {\n",
              "      background-color: #E8F0FE;\n",
              "      border: none;\n",
              "      border-radius: 50%;\n",
              "      cursor: pointer;\n",
              "      display: none;\n",
              "      fill: #1967D2;\n",
              "      height: 32px;\n",
              "      padding: 0 0 0 0;\n",
              "      width: 32px;\n",
              "    }\n",
              "\n",
              "    .colab-df-convert:hover {\n",
              "      background-color: #E2EBFA;\n",
              "      box-shadow: 0px 1px 2px rgba(60, 64, 67, 0.3), 0px 1px 3px 1px rgba(60, 64, 67, 0.15);\n",
              "      fill: #174EA6;\n",
              "    }\n",
              "\n",
              "    .colab-df-buttons div {\n",
              "      margin-bottom: 4px;\n",
              "    }\n",
              "\n",
              "    [theme=dark] .colab-df-convert {\n",
              "      background-color: #3B4455;\n",
              "      fill: #D2E3FC;\n",
              "    }\n",
              "\n",
              "    [theme=dark] .colab-df-convert:hover {\n",
              "      background-color: #434B5C;\n",
              "      box-shadow: 0px 1px 3px 1px rgba(0, 0, 0, 0.15);\n",
              "      filter: drop-shadow(0px 1px 2px rgba(0, 0, 0, 0.3));\n",
              "      fill: #FFFFFF;\n",
              "    }\n",
              "  </style>\n",
              "\n",
              "    <script>\n",
              "      const buttonEl =\n",
              "        document.querySelector('#df-2c627bae-92c2-42b9-9a97-e3178058baf9 button.colab-df-convert');\n",
              "      buttonEl.style.display =\n",
              "        google.colab.kernel.accessAllowed ? 'block' : 'none';\n",
              "\n",
              "      async function convertToInteractive(key) {\n",
              "        const element = document.querySelector('#df-2c627bae-92c2-42b9-9a97-e3178058baf9');\n",
              "        const dataTable =\n",
              "          await google.colab.kernel.invokeFunction('convertToInteractive',\n",
              "                                                    [key], {});\n",
              "        if (!dataTable) return;\n",
              "\n",
              "        const docLinkHtml = 'Like what you see? Visit the ' +\n",
              "          '<a target=\"_blank\" href=https://colab.research.google.com/notebooks/data_table.ipynb>data table notebook</a>'\n",
              "          + ' to learn more about interactive tables.';\n",
              "        element.innerHTML = '';\n",
              "        dataTable['output_type'] = 'display_data';\n",
              "        await google.colab.output.renderOutput(dataTable, element);\n",
              "        const docLink = document.createElement('div');\n",
              "        docLink.innerHTML = docLinkHtml;\n",
              "        element.appendChild(docLink);\n",
              "      }\n",
              "    </script>\n",
              "  </div>\n",
              "\n",
              "\n",
              "<div id=\"df-3123603e-7485-4c6f-b56c-7807db81e6cb\">\n",
              "  <button class=\"colab-df-quickchart\" onclick=\"quickchart('df-3123603e-7485-4c6f-b56c-7807db81e6cb')\"\n",
              "            title=\"Suggest charts\"\n",
              "            style=\"display:none;\">\n",
              "\n",
              "<svg xmlns=\"http://www.w3.org/2000/svg\" height=\"24px\"viewBox=\"0 0 24 24\"\n",
              "     width=\"24px\">\n",
              "    <g>\n",
              "        <path d=\"M19 3H5c-1.1 0-2 .9-2 2v14c0 1.1.9 2 2 2h14c1.1 0 2-.9 2-2V5c0-1.1-.9-2-2-2zM9 17H7v-7h2v7zm4 0h-2V7h2v10zm4 0h-2v-4h2v4z\"/>\n",
              "    </g>\n",
              "</svg>\n",
              "  </button>\n",
              "\n",
              "<style>\n",
              "  .colab-df-quickchart {\n",
              "      --bg-color: #E8F0FE;\n",
              "      --fill-color: #1967D2;\n",
              "      --hover-bg-color: #E2EBFA;\n",
              "      --hover-fill-color: #174EA6;\n",
              "      --disabled-fill-color: #AAA;\n",
              "      --disabled-bg-color: #DDD;\n",
              "  }\n",
              "\n",
              "  [theme=dark] .colab-df-quickchart {\n",
              "      --bg-color: #3B4455;\n",
              "      --fill-color: #D2E3FC;\n",
              "      --hover-bg-color: #434B5C;\n",
              "      --hover-fill-color: #FFFFFF;\n",
              "      --disabled-bg-color: #3B4455;\n",
              "      --disabled-fill-color: #666;\n",
              "  }\n",
              "\n",
              "  .colab-df-quickchart {\n",
              "    background-color: var(--bg-color);\n",
              "    border: none;\n",
              "    border-radius: 50%;\n",
              "    cursor: pointer;\n",
              "    display: none;\n",
              "    fill: var(--fill-color);\n",
              "    height: 32px;\n",
              "    padding: 0;\n",
              "    width: 32px;\n",
              "  }\n",
              "\n",
              "  .colab-df-quickchart:hover {\n",
              "    background-color: var(--hover-bg-color);\n",
              "    box-shadow: 0 1px 2px rgba(60, 64, 67, 0.3), 0 1px 3px 1px rgba(60, 64, 67, 0.15);\n",
              "    fill: var(--button-hover-fill-color);\n",
              "  }\n",
              "\n",
              "  .colab-df-quickchart-complete:disabled,\n",
              "  .colab-df-quickchart-complete:disabled:hover {\n",
              "    background-color: var(--disabled-bg-color);\n",
              "    fill: var(--disabled-fill-color);\n",
              "    box-shadow: none;\n",
              "  }\n",
              "\n",
              "  .colab-df-spinner {\n",
              "    border: 2px solid var(--fill-color);\n",
              "    border-color: transparent;\n",
              "    border-bottom-color: var(--fill-color);\n",
              "    animation:\n",
              "      spin 1s steps(1) infinite;\n",
              "  }\n",
              "\n",
              "  @keyframes spin {\n",
              "    0% {\n",
              "      border-color: transparent;\n",
              "      border-bottom-color: var(--fill-color);\n",
              "      border-left-color: var(--fill-color);\n",
              "    }\n",
              "    20% {\n",
              "      border-color: transparent;\n",
              "      border-left-color: var(--fill-color);\n",
              "      border-top-color: var(--fill-color);\n",
              "    }\n",
              "    30% {\n",
              "      border-color: transparent;\n",
              "      border-left-color: var(--fill-color);\n",
              "      border-top-color: var(--fill-color);\n",
              "      border-right-color: var(--fill-color);\n",
              "    }\n",
              "    40% {\n",
              "      border-color: transparent;\n",
              "      border-right-color: var(--fill-color);\n",
              "      border-top-color: var(--fill-color);\n",
              "    }\n",
              "    60% {\n",
              "      border-color: transparent;\n",
              "      border-right-color: var(--fill-color);\n",
              "    }\n",
              "    80% {\n",
              "      border-color: transparent;\n",
              "      border-right-color: var(--fill-color);\n",
              "      border-bottom-color: var(--fill-color);\n",
              "    }\n",
              "    90% {\n",
              "      border-color: transparent;\n",
              "      border-bottom-color: var(--fill-color);\n",
              "    }\n",
              "  }\n",
              "</style>\n",
              "\n",
              "  <script>\n",
              "    async function quickchart(key) {\n",
              "      const quickchartButtonEl =\n",
              "        document.querySelector('#' + key + ' button');\n",
              "      quickchartButtonEl.disabled = true;  // To prevent multiple clicks.\n",
              "      quickchartButtonEl.classList.add('colab-df-spinner');\n",
              "      try {\n",
              "        const charts = await google.colab.kernel.invokeFunction(\n",
              "            'suggestCharts', [key], {});\n",
              "      } catch (error) {\n",
              "        console.error('Error during call to suggestCharts:', error);\n",
              "      }\n",
              "      quickchartButtonEl.classList.remove('colab-df-spinner');\n",
              "      quickchartButtonEl.classList.add('colab-df-quickchart-complete');\n",
              "    }\n",
              "    (() => {\n",
              "      let quickchartButtonEl =\n",
              "        document.querySelector('#df-3123603e-7485-4c6f-b56c-7807db81e6cb button');\n",
              "      quickchartButtonEl.style.display =\n",
              "        google.colab.kernel.accessAllowed ? 'block' : 'none';\n",
              "    })();\n",
              "  </script>\n",
              "</div>\n",
              "\n",
              "    </div>\n",
              "  </div>\n"
            ],
            "application/vnd.google.colaboratory.intrinsic+json": {
              "type": "dataframe",
              "variable_name": "data",
              "summary": "{\n  \"name\": \"data\",\n  \"rows\": 90189,\n  \"fields\": [\n    {\n      \"column\": \"userid\",\n      \"properties\": {\n        \"dtype\": \"number\",\n        \"std\": 2883285,\n        \"min\": 116,\n        \"max\": 9999861,\n        \"num_unique_values\": 90189,\n        \"samples\": [\n          3266525,\n          3937667,\n          2861986\n        ],\n        \"semantic_type\": \"\",\n        \"description\": \"\"\n      }\n    },\n    {\n      \"column\": \"version\",\n      \"properties\": {\n        \"dtype\": \"category\",\n        \"num_unique_values\": 2,\n        \"samples\": [\n          \"gate_40\",\n          \"gate_30\"\n        ],\n        \"semantic_type\": \"\",\n        \"description\": \"\"\n      }\n    },\n    {\n      \"column\": \"sum_gamerounds\",\n      \"properties\": {\n        \"dtype\": \"number\",\n        \"std\": 195,\n        \"min\": 0,\n        \"max\": 49854,\n        \"num_unique_values\": 942,\n        \"samples\": [\n          346,\n          523\n        ],\n        \"semantic_type\": \"\",\n        \"description\": \"\"\n      }\n    },\n    {\n      \"column\": \"retention_1\",\n      \"properties\": {\n        \"dtype\": \"boolean\",\n        \"num_unique_values\": 2,\n        \"samples\": [\n          true,\n          false\n        ],\n        \"semantic_type\": \"\",\n        \"description\": \"\"\n      }\n    },\n    {\n      \"column\": \"retention_7\",\n      \"properties\": {\n        \"dtype\": \"boolean\",\n        \"num_unique_values\": 2,\n        \"samples\": [\n          true,\n          false\n        ],\n        \"semantic_type\": \"\",\n        \"description\": \"\"\n      }\n    }\n  ]\n}"
            }
          },
          "metadata": {},
          "execution_count": 5
        }
      ]
    },
    {
      "cell_type": "markdown",
      "source": [
        "#EDA and Preprocessing"
      ],
      "metadata": {
        "id": "vNzC-vXCzhXj"
      }
    },
    {
      "cell_type": "code",
      "source": [
        "data = data.rename(columns = {'version':'groups',\n",
        "                              'sum_gamerounds' : 'rounds_in_14_days',\n",
        "                              'retention_1' : 'login_day_1',\n",
        "                              'retention_7' : 'login_day_7'})"
      ],
      "metadata": {
        "id": "pWtKRDMiXzjU"
      },
      "execution_count": 6,
      "outputs": []
    },
    {
      "cell_type": "code",
      "source": [
        "data.duplicated(subset = 'userid').sum()"
      ],
      "metadata": {
        "colab": {
          "base_uri": "https://localhost:8080/"
        },
        "id": "F_xI6SFQZhmU",
        "outputId": "1877812a-c958-4649-8778-39e5fed0dac6"
      },
      "execution_count": 7,
      "outputs": [
        {
          "output_type": "execute_result",
          "data": {
            "text/plain": [
              "0"
            ]
          },
          "metadata": {},
          "execution_count": 7
        }
      ]
    },
    {
      "cell_type": "code",
      "source": [
        "data['rounds_in_14_days'].describe()"
      ],
      "metadata": {
        "colab": {
          "base_uri": "https://localhost:8080/",
          "height": 335
        },
        "id": "KqnflUPrYOpz",
        "outputId": "1318b447-5f09-4985-84f3-e3974e4df887"
      },
      "execution_count": 8,
      "outputs": [
        {
          "output_type": "execute_result",
          "data": {
            "text/plain": [
              "count    90189.000000\n",
              "mean        51.872457\n",
              "std        195.050858\n",
              "min          0.000000\n",
              "25%          5.000000\n",
              "50%         16.000000\n",
              "75%         51.000000\n",
              "max      49854.000000\n",
              "Name: rounds_in_14_days, dtype: float64"
            ],
            "text/html": [
              "<div>\n",
              "<style scoped>\n",
              "    .dataframe tbody tr th:only-of-type {\n",
              "        vertical-align: middle;\n",
              "    }\n",
              "\n",
              "    .dataframe tbody tr th {\n",
              "        vertical-align: top;\n",
              "    }\n",
              "\n",
              "    .dataframe thead th {\n",
              "        text-align: right;\n",
              "    }\n",
              "</style>\n",
              "<table border=\"1\" class=\"dataframe\">\n",
              "  <thead>\n",
              "    <tr style=\"text-align: right;\">\n",
              "      <th></th>\n",
              "      <th>rounds_in_14_days</th>\n",
              "    </tr>\n",
              "  </thead>\n",
              "  <tbody>\n",
              "    <tr>\n",
              "      <th>count</th>\n",
              "      <td>90189.000000</td>\n",
              "    </tr>\n",
              "    <tr>\n",
              "      <th>mean</th>\n",
              "      <td>51.872457</td>\n",
              "    </tr>\n",
              "    <tr>\n",
              "      <th>std</th>\n",
              "      <td>195.050858</td>\n",
              "    </tr>\n",
              "    <tr>\n",
              "      <th>min</th>\n",
              "      <td>0.000000</td>\n",
              "    </tr>\n",
              "    <tr>\n",
              "      <th>25%</th>\n",
              "      <td>5.000000</td>\n",
              "    </tr>\n",
              "    <tr>\n",
              "      <th>50%</th>\n",
              "      <td>16.000000</td>\n",
              "    </tr>\n",
              "    <tr>\n",
              "      <th>75%</th>\n",
              "      <td>51.000000</td>\n",
              "    </tr>\n",
              "    <tr>\n",
              "      <th>max</th>\n",
              "      <td>49854.000000</td>\n",
              "    </tr>\n",
              "  </tbody>\n",
              "</table>\n",
              "</div><br><label><b>dtype:</b> float64</label>"
            ]
          },
          "metadata": {},
          "execution_count": 8
        }
      ]
    },
    {
      "cell_type": "code",
      "source": [
        "data['rounds_in_14_days'].hist()"
      ],
      "metadata": {
        "colab": {
          "base_uri": "https://localhost:8080/",
          "height": 448
        },
        "id": "vdHMSWdZYSD0",
        "outputId": "99991c96-9b2e-43de-daf9-f1f7f577e6b1"
      },
      "execution_count": 9,
      "outputs": [
        {
          "output_type": "execute_result",
          "data": {
            "text/plain": [
              "<Axes: >"
            ]
          },
          "metadata": {},
          "execution_count": 9
        },
        {
          "output_type": "display_data",
          "data": {
            "text/plain": [
              "<Figure size 640x480 with 1 Axes>"
            ],
            "image/png": "[encoded data removed]"
          },
          "metadata": {}
        }
      ]
    },
    {
      "cell_type": "code",
      "source": [
        "data['rounds_in_14_days'].sort_values(ascending = False).head()"
      ],
      "metadata": {
        "colab": {
          "base_uri": "https://localhost:8080/",
          "height": 241
        },
        "id": "X0MrV24iYgIW",
        "outputId": "95f007cf-a3f3-4df1-8693-cf923262308c"
      },
      "execution_count": 10,
      "outputs": [
        {
          "output_type": "execute_result",
          "data": {
            "text/plain": [
              "57702    49854\n",
              "7912      2961\n",
              "29417     2640\n",
              "43671     2438\n",
              "48188     2294\n",
              "Name: rounds_in_14_days, dtype: int64"
            ],
            "text/html": [
              "<div>\n",
              "<style scoped>\n",
              "    .dataframe tbody tr th:only-of-type {\n",
              "        vertical-align: middle;\n",
              "    }\n",
              "\n",
              "    .dataframe tbody tr th {\n",
              "        vertical-align: top;\n",
              "    }\n",
              "\n",
              "    .dataframe thead th {\n",
              "        text-align: right;\n",
              "    }\n",
              "</style>\n",
              "<table border=\"1\" class=\"dataframe\">\n",
              "  <thead>\n",
              "    <tr style=\"text-align: right;\">\n",
              "      <th></th>\n",
              "      <th>rounds_in_14_days</th>\n",
              "    </tr>\n",
              "  </thead>\n",
              "  <tbody>\n",
              "    <tr>\n",
              "      <th>57702</th>\n",
              "      <td>49854</td>\n",
              "    </tr>\n",
              "    <tr>\n",
              "      <th>7912</th>\n",
              "      <td>2961</td>\n",
              "    </tr>\n",
              "    <tr>\n",
              "      <th>29417</th>\n",
              "      <td>2640</td>\n",
              "    </tr>\n",
              "    <tr>\n",
              "      <th>43671</th>\n",
              "      <td>2438</td>\n",
              "    </tr>\n",
              "    <tr>\n",
              "      <th>48188</th>\n",
              "      <td>2294</td>\n",
              "    </tr>\n",
              "  </tbody>\n",
              "</table>\n",
              "</div><br><label><b>dtype:</b> int64</label>"
            ]
          },
          "metadata": {},
          "execution_count": 10
        }
      ]
    },
    {
      "cell_type": "code",
      "source": [
        "data = data.drop(data['rounds_in_14_days'].idxmax(), axis = 0)"
      ],
      "metadata": {
        "id": "16ojyC1sZGKl"
      },
      "execution_count": 11,
      "outputs": []
    },
    {
      "cell_type": "code",
      "source": [
        "data['groups'].value_counts(normalize=True)"
      ],
      "metadata": {
        "colab": {
          "base_uri": "https://localhost:8080/",
          "height": 178
        },
        "id": "l6uOY4m_ZoEs",
        "outputId": "ac3d47ba-1614-4a67-8583-96f14947ac13"
      },
      "execution_count": 12,
      "outputs": [
        {
          "output_type": "execute_result",
          "data": {
            "text/plain": [
              "groups\n",
              "gate_40    0.50438\n",
              "gate_30    0.49562\n",
              "Name: proportion, dtype: float64"
            ],
            "text/html": [
              "<div>\n",
              "<style scoped>\n",
              "    .dataframe tbody tr th:only-of-type {\n",
              "        vertical-align: middle;\n",
              "    }\n",
              "\n",
              "    .dataframe tbody tr th {\n",
              "        vertical-align: top;\n",
              "    }\n",
              "\n",
              "    .dataframe thead th {\n",
              "        text-align: right;\n",
              "    }\n",
              "</style>\n",
              "<table border=\"1\" class=\"dataframe\">\n",
              "  <thead>\n",
              "    <tr style=\"text-align: right;\">\n",
              "      <th></th>\n",
              "      <th>proportion</th>\n",
              "    </tr>\n",
              "    <tr>\n",
              "      <th>groups</th>\n",
              "      <th></th>\n",
              "    </tr>\n",
              "  </thead>\n",
              "  <tbody>\n",
              "    <tr>\n",
              "      <th>gate_40</th>\n",
              "      <td>0.50438</td>\n",
              "    </tr>\n",
              "    <tr>\n",
              "      <th>gate_30</th>\n",
              "      <td>0.49562</td>\n",
              "    </tr>\n",
              "  </tbody>\n",
              "</table>\n",
              "</div><br><label><b>dtype:</b> float64</label>"
            ]
          },
          "metadata": {},
          "execution_count": 12
        }
      ]
    },
    {
      "cell_type": "code",
      "source": [
        "data.groupby('groups')[['rounds_in_14_days',\n",
        "                        'login_day_1',\n",
        "                        'login_day_7']].agg({'rounds_in_14_days':['count',\n",
        "                                                                   'mean',\n",
        "                                                                   'max',\n",
        "                                                                   'median'],\n",
        "                                             'login_day_1':['sum', 'mean'],\n",
        "                                             'login_day_7':['sum', 'mean']}\n",
        "                                            ).reset_index()"
      ],
      "metadata": {
        "colab": {
          "base_uri": "https://localhost:8080/",
          "height": 143
        },
        "id": "0zQsvWLvZp_T",
        "outputId": "183a947c-3ddc-48a9-c72e-12c50f3edff3"
      },
      "execution_count": 13,
      "outputs": [
        {
          "output_type": "execute_result",
          "data": {
            "text/plain": [
              "    groups rounds_in_14_days                         login_day_1            \\\n",
              "                       count       mean   max median         sum      mean   \n",
              "0  gate_30             44699  51.342111  2961   17.0       20034  0.448198   \n",
              "1  gate_40             45489  51.298776  2640   16.0       20119  0.442283   \n",
              "\n",
              "  login_day_7            \n",
              "          sum      mean  \n",
              "0        8501  0.190183  \n",
              "1        8279  0.182000  "
            ],
            "text/html": [
              "\n",
              "  <div id=\"df-083583a2-0882-4f38-ba06-92bc2b26093a\" class=\"colab-df-container\">\n",
              "    <div>\n",
              "<style scoped>\n",
              "    .dataframe tbody tr th:only-of-type {\n",
              "        vertical-align: middle;\n",
              "    }\n",
              "\n",
              "    .dataframe tbody tr th {\n",
              "        vertical-align: top;\n",
              "    }\n",
              "\n",
              "    .dataframe thead tr th {\n",
              "        text-align: left;\n",
              "    }\n",
              "</style>\n",
              "<table border=\"1\" class=\"dataframe\">\n",
              "  <thead>\n",
              "    <tr>\n",
              "      <th></th>\n",
              "      <th>groups</th>\n",
              "      <th colspan=\"4\" halign=\"left\">rounds_in_14_days</th>\n",
              "      <th colspan=\"2\" halign=\"left\">login_day_1</th>\n",
              "      <th colspan=\"2\" halign=\"left\">login_day_7</th>\n",
              "    </tr>\n",
              "    <tr>\n",
              "      <th></th>\n",
              "      <th></th>\n",
              "      <th>count</th>\n",
              "      <th>mean</th>\n",
              "      <th>max</th>\n",
              "      <th>median</th>\n",
              "      <th>sum</th>\n",
              "      <th>mean</th>\n",
              "      <th>sum</th>\n",
              "      <th>mean</th>\n",
              "    </tr>\n",
              "  </thead>\n",
              "  <tbody>\n",
              "    <tr>\n",
              "      <th>0</th>\n",
              "      <td>gate_30</td>\n",
              "      <td>44699</td>\n",
              "      <td>51.342111</td>\n",
              "      <td>2961</td>\n",
              "      <td>17.0</td>\n",
              "      <td>20034</td>\n",
              "      <td>0.448198</td>\n",
              "      <td>8501</td>\n",
              "      <td>0.190183</td>\n",
              "    </tr>\n",
              "    <tr>\n",
              "      <th>1</th>\n",
              "      <td>gate_40</td>\n",
              "      <td>45489</td>\n",
              "      <td>51.298776</td>\n",
              "      <td>2640</td>\n",
              "      <td>16.0</td>\n",
              "      <td>20119</td>\n",
              "      <td>0.442283</td>\n",
              "      <td>8279</td>\n",
              "      <td>0.182000</td>\n",
              "    </tr>\n",
              "  </tbody>\n",
              "</table>\n",
              "</div>\n",
              "    <div class=\"colab-df-buttons\">\n",
              "\n",
              "  <div class=\"colab-df-container\">\n",
              "    <button class=\"colab-df-convert\" onclick=\"convertToInteractive('df-083583a2-0882-4f38-ba06-92bc2b26093a')\"\n",
              "            title=\"Convert this dataframe to an interactive table.\"\n",
              "            style=\"display:none;\">\n",
              "\n",
              "  <svg xmlns=\"http://www.w3.org/2000/svg\" height=\"24px\" viewBox=\"0 -960 960 960\">\n",
              "    <path d=\"M120-120v-720h720v720H120Zm60-500h600v-160H180v160Zm220 220h160v-160H400v160Zm0 220h160v-160H400v160ZM180-400h160v-160H180v160Zm440 0h160v-160H620v160ZM180-180h160v-160H180v160Zm440 0h160v-160H620v160Z\"/>\n",
              "  </svg>\n",
              "    </button>\n",
              "\n",
              "  <style>\n",
              "    .colab-df-container {\n",
              "      display:flex;\n",
              "      gap: 12px;\n",
              "    }\n",
              "\n",
              "    .colab-df-convert {\n",
              "      background-color: #E8F0FE;\n",
              "      border: none;\n",
              "      border-radius: 50%;\n",
              "      cursor: pointer;\n",
              "      display: none;\n",
              "      fill: #1967D2;\n",
              "      height: 32px;\n",
              "      padding: 0 0 0 0;\n",
              "      width: 32px;\n",
              "    }\n",
              "\n",
              "    .colab-df-convert:hover {\n",
              "      background-color: #E2EBFA;\n",
              "      box-shadow: 0px 1px 2px rgba(60, 64, 67, 0.3), 0px 1px 3px 1px rgba(60, 64, 67, 0.15);\n",
              "      fill: #174EA6;\n",
              "    }\n",
              "\n",
              "    .colab-df-buttons div {\n",
              "      margin-bottom: 4px;\n",
              "    }\n",
              "\n",
              "    [theme=dark] .colab-df-convert {\n",
              "      background-color: #3B4455;\n",
              "      fill: #D2E3FC;\n",
              "    }\n",
              "\n",
              "    [theme=dark] .colab-df-convert:hover {\n",
              "      background-color: #434B5C;\n",
              "      box-shadow: 0px 1px 3px 1px rgba(0, 0, 0, 0.15);\n",
              "      filter: drop-shadow(0px 1px 2px rgba(0, 0, 0, 0.3));\n",
              "      fill: #FFFFFF;\n",
              "    }\n",
              "  </style>\n",
              "\n",
              "    <script>\n",
              "      const buttonEl =\n",
              "        document.querySelector('#df-083583a2-0882-4f38-ba06-92bc2b26093a button.colab-df-convert');\n",
              "      buttonEl.style.display =\n",
              "        google.colab.kernel.accessAllowed ? 'block' : 'none';\n",
              "\n",
              "      async function convertToInteractive(key) {\n",
              "        const element = document.querySelector('#df-083583a2-0882-4f38-ba06-92bc2b26093a');\n",
              "        const dataTable =\n",
              "          await google.colab.kernel.invokeFunction('convertToInteractive',\n",
              "                                                    [key], {});\n",
              "        if (!dataTable) return;\n",
              "\n",
              "        const docLinkHtml = 'Like what you see? Visit the ' +\n",
              "          '<a target=\"_blank\" href=https://colab.research.google.com/notebooks/data_table.ipynb>data table notebook</a>'\n",
              "          + ' to learn more about interactive tables.';\n",
              "        element.innerHTML = '';\n",
              "        dataTable['output_type'] = 'display_data';\n",
              "        await google.colab.output.renderOutput(dataTable, element);\n",
              "        const docLink = document.createElement('div');\n",
              "        docLink.innerHTML = docLinkHtml;\n",
              "        element.appendChild(docLink);\n",
              "      }\n",
              "    </script>\n",
              "  </div>\n",
              "\n",
              "\n",
              "<div id=\"df-2db8cf46-02c5-4827-84bd-a8d3b3f1b864\">\n",
              "  <button class=\"colab-df-quickchart\" onclick=\"quickchart('df-2db8cf46-02c5-4827-84bd-a8d3b3f1b864')\"\n",
              "            title=\"Suggest charts\"\n",
              "            style=\"display:none;\">\n",
              "\n",
              "<svg xmlns=\"http://www.w3.org/2000/svg\" height=\"24px\"viewBox=\"0 0 24 24\"\n",
              "     width=\"24px\">\n",
              "    <g>\n",
              "        <path d=\"M19 3H5c-1.1 0-2 .9-2 2v14c0 1.1.9 2 2 2h14c1.1 0 2-.9 2-2V5c0-1.1-.9-2-2-2zM9 17H7v-7h2v7zm4 0h-2V7h2v10zm4 0h-2v-4h2v4z\"/>\n",
              "    </g>\n",
              "</svg>\n",
              "  </button>\n",
              "\n",
              "<style>\n",
              "  .colab-df-quickchart {\n",
              "      --bg-color: #E8F0FE;\n",
              "      --fill-color: #1967D2;\n",
              "      --hover-bg-color: #E2EBFA;\n",
              "      --hover-fill-color: #174EA6;\n",
              "      --disabled-fill-color: #AAA;\n",
              "      --disabled-bg-color: #DDD;\n",
              "  }\n",
              "\n",
              "  [theme=dark] .colab-df-quickchart {\n",
              "      --bg-color: #3B4455;\n",
              "      --fill-color: #D2E3FC;\n",
              "      --hover-bg-color: #434B5C;\n",
              "      --hover-fill-color: #FFFFFF;\n",
              "      --disabled-bg-color: #3B4455;\n",
              "      --disabled-fill-color: #666;\n",
              "  }\n",
              "\n",
              "  .colab-df-quickchart {\n",
              "    background-color: var(--bg-color);\n",
              "    border: none;\n",
              "    border-radius: 50%;\n",
              "    cursor: pointer;\n",
              "    display: none;\n",
              "    fill: var(--fill-color);\n",
              "    height: 32px;\n",
              "    padding: 0;\n",
              "    width: 32px;\n",
              "  }\n",
              "\n",
              "  .colab-df-quickchart:hover {\n",
              "    background-color: var(--hover-bg-color);\n",
              "    box-shadow: 0 1px 2px rgba(60, 64, 67, 0.3), 0 1px 3px 1px rgba(60, 64, 67, 0.15);\n",
              "    fill: var(--button-hover-fill-color);\n",
              "  }\n",
              "\n",
              "  .colab-df-quickchart-complete:disabled,\n",
              "  .colab-df-quickchart-complete:disabled:hover {\n",
              "    background-color: var(--disabled-bg-color);\n",
              "    fill: var(--disabled-fill-color);\n",
              "    box-shadow: none;\n",
              "  }\n",
              "\n",
              "  .colab-df-spinner {\n",
              "    border: 2px solid var(--fill-color);\n",
              "    border-color: transparent;\n",
              "    border-bottom-color: var(--fill-color);\n",
              "    animation:\n",
              "      spin 1s steps(1) infinite;\n",
              "  }\n",
              "\n",
              "  @keyframes spin {\n",
              "    0% {\n",
              "      border-color: transparent;\n",
              "      border-bottom-color: var(--fill-color);\n",
              "      border-left-color: var(--fill-color);\n",
              "    }\n",
              "    20% {\n",
              "      border-color: transparent;\n",
              "      border-left-color: var(--fill-color);\n",
              "      border-top-color: var(--fill-color);\n",
              "    }\n",
              "    30% {\n",
              "      border-color: transparent;\n",
              "      border-left-color: var(--fill-color);\n",
              "      border-top-color: var(--fill-color);\n",
              "      border-right-color: var(--fill-color);\n",
              "    }\n",
              "    40% {\n",
              "      border-color: transparent;\n",
              "      border-right-color: var(--fill-color);\n",
              "      border-top-color: var(--fill-color);\n",
              "    }\n",
              "    60% {\n",
              "      border-color: transparent;\n",
              "      border-right-color: var(--fill-color);\n",
              "    }\n",
              "    80% {\n",
              "      border-color: transparent;\n",
              "      border-right-color: var(--fill-color);\n",
              "      border-bottom-color: var(--fill-color);\n",
              "    }\n",
              "    90% {\n",
              "      border-color: transparent;\n",
              "      border-bottom-color: var(--fill-color);\n",
              "    }\n",
              "  }\n",
              "</style>\n",
              "\n",
              "  <script>\n",
              "    async function quickchart(key) {\n",
              "      const quickchartButtonEl =\n",
              "        document.querySelector('#' + key + ' button');\n",
              "      quickchartButtonEl.disabled = true;  // To prevent multiple clicks.\n",
              "      quickchartButtonEl.classList.add('colab-df-spinner');\n",
              "      try {\n",
              "        const charts = await google.colab.kernel.invokeFunction(\n",
              "            'suggestCharts', [key], {});\n",
              "      } catch (error) {\n",
              "        console.error('Error during call to suggestCharts:', error);\n",
              "      }\n",
              "      quickchartButtonEl.classList.remove('colab-df-spinner');\n",
              "      quickchartButtonEl.classList.add('colab-df-quickchart-complete');\n",
              "    }\n",
              "    (() => {\n",
              "      let quickchartButtonEl =\n",
              "        document.querySelector('#df-2db8cf46-02c5-4827-84bd-a8d3b3f1b864 button');\n",
              "      quickchartButtonEl.style.display =\n",
              "        google.colab.kernel.accessAllowed ? 'block' : 'none';\n",
              "    })();\n",
              "  </script>\n",
              "</div>\n",
              "\n",
              "    </div>\n",
              "  </div>\n"
            ],
            "application/vnd.google.colaboratory.intrinsic+json": {
              "type": "dataframe",
              "summary": "{\n  \"name\": \"                                            )\",\n  \"rows\": 2,\n  \"fields\": [\n    {\n      \"column\": [\n        \"groups\",\n        \"\"\n      ],\n      \"properties\": {\n        \"dtype\": \"string\",\n        \"num_unique_values\": 2,\n        \"samples\": [\n          \"gate_40\",\n          \"gate_30\"\n        ],\n        \"semantic_type\": \"\",\n        \"description\": \"\"\n      }\n    },\n    {\n      \"column\": [\n        \"rounds_in_14_days\",\n        \"count\"\n      ],\n      \"properties\": {\n        \"dtype\": \"number\",\n        \"std\": 558,\n        \"min\": 44699,\n        \"max\": 45489,\n        \"num_unique_values\": 2,\n        \"samples\": [\n          45489,\n          44699\n        ],\n        \"semantic_type\": \"\",\n        \"description\": \"\"\n      }\n    },\n    {\n      \"column\": [\n        \"rounds_in_14_days\",\n        \"mean\"\n      ],\n      \"properties\": {\n        \"dtype\": \"number\",\n        \"std\": 0.03064249612707507,\n        \"min\": 51.29877552814966,\n        \"max\": 51.342110561757536,\n        \"num_unique_values\": 2,\n        \"samples\": [\n          51.29877552814966,\n          51.342110561757536\n        ],\n        \"semantic_type\": \"\",\n        \"description\": \"\"\n      }\n    },\n    {\n      \"column\": [\n        \"rounds_in_14_days\",\n        \"max\"\n      ],\n      \"properties\": {\n        \"dtype\": \"number\",\n        \"std\": 226,\n        \"min\": 2640,\n        \"max\": 2961,\n        \"num_unique_values\": 2,\n        \"samples\": [\n          2640,\n          2961\n        ],\n        \"semantic_type\": \"\",\n        \"description\": \"\"\n      }\n    },\n    {\n      \"column\": [\n        \"rounds_in_14_days\",\n        \"median\"\n      ],\n      \"properties\": {\n        \"dtype\": \"number\",\n        \"std\": 0.7071067811865476,\n        \"min\": 16.0,\n        \"max\": 17.0,\n        \"num_unique_values\": 2,\n        \"samples\": [\n          16.0,\n          17.0\n        ],\n        \"semantic_type\": \"\",\n        \"description\": \"\"\n      }\n    },\n    {\n      \"column\": [\n        \"login_day_1\",\n        \"sum\"\n      ],\n      \"properties\": {\n        \"dtype\": \"number\",\n        \"std\": 60,\n        \"min\": 20034,\n        \"max\": 20119,\n        \"num_unique_values\": 2,\n        \"samples\": [\n          20119,\n          20034\n        ],\n        \"semantic_type\": \"\",\n        \"description\": \"\"\n      }\n    },\n    {\n      \"column\": [\n        \"login_day_1\",\n        \"mean\"\n      ],\n      \"properties\": {\n        \"dtype\": \"number\",\n        \"std\": 0.004182675618743373,\n        \"min\": 0.44228274967574577,\n        \"max\": 0.4481979462627799,\n        \"num_unique_values\": 2,\n        \"samples\": [\n          0.44228274967574577,\n          0.4481979462627799\n        ],\n        \"semantic_type\": \"\",\n        \"description\": \"\"\n      }\n    },\n    {\n      \"column\": [\n        \"login_day_7\",\n        \"sum\"\n      ],\n      \"properties\": {\n        \"dtype\": \"number\",\n        \"std\": 156,\n        \"min\": 8279,\n        \"max\": 8501,\n        \"num_unique_values\": 2,\n        \"samples\": [\n          8279,\n          8501\n        ],\n        \"semantic_type\": \"\",\n        \"description\": \"\"\n      }\n    },\n    {\n      \"column\": [\n        \"login_day_7\",\n        \"mean\"\n      ],\n      \"properties\": {\n        \"dtype\": \"number\",\n        \"std\": 0.005786383207293899,\n        \"min\": 0.18200004396667327,\n        \"max\": 0.19018322557551623,\n        \"num_unique_values\": 2,\n        \"samples\": [\n          0.18200004396667327,\n          0.19018322557551623\n        ],\n        \"semantic_type\": \"\",\n        \"description\": \"\"\n      }\n    }\n  ]\n}"
            }
          },
          "metadata": {},
          "execution_count": 13
        }
      ]
    },
    {
      "cell_type": "markdown",
      "source": [
        "# A/B Testing\n",
        "\n"
      ],
      "metadata": {
        "id": "pXRwnBQEynNS"
      }
    },
    {
      "cell_type": "markdown",
      "source": [
        "We will conduct three A/B tests to evaluate the impact of our changes on rounds played within two weeks and user retention on day-one and day-seven."
      ],
      "metadata": {
        "id": "Z3dqbQ_4zTdT"
      }
    },
    {
      "cell_type": "markdown",
      "source": [
        "##A/B Testing for rounds played"
      ],
      "metadata": {
        "id": "XFuJftMPHX06"
      }
    },
    {
      "cell_type": "code",
      "source": [
        "control = data[data['groups'] == 'gate_30']['rounds_in_14_days']\n",
        "test = data[data['groups'] == 'gate_40']['rounds_in_14_days']"
      ],
      "metadata": {
        "id": "P71kO78GNdW6"
      },
      "execution_count": 14,
      "outputs": []
    },
    {
      "cell_type": "code",
      "source": [
        "control.hist(color = 'red')\n",
        "test.hist(color = 'green')"
      ],
      "metadata": {
        "colab": {
          "base_uri": "https://localhost:8080/",
          "height": 448
        },
        "id": "ckKh6IVzzzqi",
        "outputId": "ab1bd011-ec3f-44c0-8a32-c8bea4c389e4"
      },
      "execution_count": 15,
      "outputs": [
        {
          "output_type": "execute_result",
          "data": {
            "text/plain": [
              "<Axes: >"
            ]
          },
          "metadata": {},
          "execution_count": 15
        },
        {
          "output_type": "display_data",
          "data": {
            "text/plain": [
              "<Figure size 640x480 with 1 Axes>"
            ],
            "image/png": "[encoded data removed]"
          },
          "metadata": {}
        }
      ]
    },
    {
      "cell_type": "markdown",
      "source": [
        "Distribution has a long tail, so for the reference we are going to use a median, instead of a mean."
      ],
      "metadata": {
        "id": "fw8xxL0YBZmh"
      }
    },
    {
      "cell_type": "markdown",
      "source": [
        "**H0: There is no difference in the number of \"rounds_in_14_days\" between the \"gate_30\" and \"gate_40\" groups.**\n",
        "\n",
        "**H1: There is a difference in the number of \"rounds_in_14_days\" between the \"gate_30\" and \"gate_40\" groups.**\n",
        "\n",
        "Given the large sample size of 40,000+ observations in each group, we can consider decreasing the alpha level from 0.05 to 0.01 to reduce the risk of a Type I error. However, since the two groups are quite similar, maintaining a 0.05 alpha level might be as reasonable.\n",
        "\n",
        "Let's check whether compared groups have a normal distribution using Q-Q plot, so we can decide whick stat tests we are to use."
      ],
      "metadata": {
        "id": "UuznCmMURScB"
      }
    },
    {
      "cell_type": "code",
      "source": [
        "stats.probplot(control,\n",
        "               dist=\"norm\",\n",
        "               plot=pylab),\n",
        "\n",
        "stats.probplot(test,\n",
        "               dist=\"norm\",\n",
        "               plot=pylab)\n",
        "pylab.show()"
      ],
      "metadata": {
        "colab": {
          "base_uri": "https://localhost:8080/",
          "height": 472
        },
        "id": "5kwWKL712t-I",
        "outputId": "b8c11acd-8cca-4407-efb8-9a7ffae62ebc"
      },
      "execution_count": 16,
      "outputs": [
        {
          "output_type": "display_data",
          "data": {
            "text/plain": [
              "<Figure size 640x480 with 1 Axes>"
            ],
            "image/png": "[encoded data removed]"
          },
          "metadata": {}
        }
      ]
    },
    {
      "cell_type": "markdown",
      "source": [
        "Given the **non-normal distribution** of the data and the presence of zero values, a parametric test like the t-test is inappropriate. A non-parametric alternative is necessary.** The Mann-Whitney U test** is suitable because it compares the medians of two independent groups, assuming **similar distributions.**\n"
      ],
      "metadata": {
        "id": "XiKVsQFL5JC3"
      }
    },
    {
      "cell_type": "markdown",
      "source": [
        "Visual inspection suggests that the variances of the control and test groups are approximately equal. To confirm this, **a Levene test** can be conducted just in case."
      ],
      "metadata": {
        "id": "oLxRxOpCR845"
      }
    },
    {
      "cell_type": "code",
      "source": [
        "levene_pval = stats.levene(control,test)[1]\n",
        "levene_pval"
      ],
      "metadata": {
        "colab": {
          "base_uri": "https://localhost:8080/"
        },
        "id": "BpjcKN9VQy8v",
        "outputId": "6c3fb5fd-4b8b-4a31-e958-552def5ddae7"
      },
      "execution_count": 17,
      "outputs": [
        {
          "output_type": "execute_result",
          "data": {
            "text/plain": [
              "0.7840494387892463"
            ]
          },
          "metadata": {},
          "execution_count": 17
        }
      ]
    },
    {
      "cell_type": "markdown",
      "source": [
        "Variance Homogeneity H0 with 0.78 p-value is not rejected"
      ],
      "metadata": {
        "id": "8Rn7YPomUS3_"
      }
    },
    {
      "cell_type": "code",
      "source": [
        "statistic, p_val = stats.mannwhitneyu(control,\n",
        "                                      test,\n",
        "                                      alternative = 'two-sided')"
      ],
      "metadata": {
        "id": "Z4kyYCVZ_VRH"
      },
      "execution_count": 18,
      "outputs": []
    },
    {
      "cell_type": "code",
      "source": [
        "p_val"
      ],
      "metadata": {
        "colab": {
          "base_uri": "https://localhost:8080/"
        },
        "id": "uC4wtnHnCqFw",
        "outputId": "8c73d8d0-f42d-4d58-f0bc-2495011d2025"
      },
      "execution_count": 19,
      "outputs": [
        {
          "output_type": "execute_result",
          "data": {
            "text/plain": [
              "0.05089155279145376"
            ]
          },
          "metadata": {},
          "execution_count": 19
        }
      ]
    },
    {
      "cell_type": "markdown",
      "source": [
        "Based on Mann-Whitney p-value of *0.05089155279145376* **we fail to reject the null hypothesis**. This suggests that the observed difference between the groups is not statistically significant and could be due to chance.\n",
        "\n",
        "###**The increase of gate level did not affect the amount of rounds played.**"
      ],
      "metadata": {
        "id": "Me9EcwraUw3F"
      }
    },
    {
      "cell_type": "markdown",
      "source": [
        "##A/B Testing for Day 1 Conversion"
      ],
      "metadata": {
        "id": "JG9F3Mj2U5TU"
      }
    },
    {
      "cell_type": "markdown",
      "source": [
        "**H0: There is no difference in day 1 retention rate**\n",
        "\n",
        "**H1: There is a difference in day 1 retention rate**\n",
        "\n",
        "Given the binary nature of day 1 retention estimator, a **proportion z-test** can be used to compare the proportions of retention between the two groups. Additionally, an **independent t-test** can be applied to the raw retention data if the assumptions of normality and equal variances are met. To provide a more robust analysis, bootstrapping can be employed.\n",
        "\n",
        "We know that the Homogeneity of variance is already met, as it is visually seen on the hist below."
      ],
      "metadata": {
        "id": "VdOLu0bcYPaV"
      }
    },
    {
      "cell_type": "code",
      "source": [
        "def bootstrap(A, B, prob_a, prob_b, size, n):\n",
        "    result = []\n",
        "    prop = len(B)/len(A)\n",
        "\n",
        "    for _ in tqdm(range(n)):\n",
        "\n",
        "      a = np.random.binomial(1,\n",
        "                             prob_a,\n",
        "                             size = size).mean()\n",
        "\n",
        "      b = np.random.binomial(1,\n",
        "                             prob_b,\n",
        "                             size = int(round(size*prop, 0))).mean()\n",
        "\n",
        "      result.append((a, b))\n",
        "    return result"
      ],
      "metadata": {
        "id": "r4DVFXS3CxQ6"
      },
      "execution_count": 20,
      "outputs": []
    },
    {
      "cell_type": "code",
      "source": [
        "control = data[data['groups'] == 'gate_30']['login_day_1']\n",
        "test = data[data['groups'] == 'gate_40']['login_day_1']"
      ],
      "metadata": {
        "id": "y10hNDA5enkN"
      },
      "execution_count": 21,
      "outputs": []
    },
    {
      "cell_type": "code",
      "source": [
        "result = pd.DataFrame(bootstrap(control,\n",
        "                                test,\n",
        "                                control.mean(),\n",
        "                                test.mean(),\n",
        "                                len(control),\n",
        "                                10000),\n",
        "                      columns = ['A', 'B'])\n",
        "result.hist(bins=20)"
      ],
      "metadata": {
        "id": "F16bZtw_-CPA",
        "colab": {
          "base_uri": "https://localhost:8080/",
          "height": 507
        },
        "outputId": "d8512bb1-3c34-4963-ca9b-9b4de185bea0"
      },
      "execution_count": 22,
      "outputs": [
        {
          "output_type": "stream",
          "name": "stderr",
          "text": [
            "100%|██████████| 10000/10000 [00:36<00:00, 273.05it/s]\n"
          ]
        },
        {
          "output_type": "execute_result",
          "data": {
            "text/plain": [
              "array([[<Axes: title={'center': 'A'}>, <Axes: title={'center': 'B'}>]],\n",
              "      dtype=object)"
            ]
          },
          "metadata": {},
          "execution_count": 22
        },
        {
          "output_type": "display_data",
          "data": {
            "text/plain": [
              "<Figure size 640x480 with 2 Axes>"
            ],
            "image/png": "[encoded data removed]"
          },
          "metadata": {}
        }
      ]
    },
    {
      "cell_type": "code",
      "source": [
        "stats.probplot(result['A'],\n",
        "               dist=\"norm\",\n",
        "               plot=pylab),\n",
        "\n",
        "stats.probplot(result['B'],\n",
        "               dist=\"norm\",\n",
        "               plot=pylab)\n",
        "pylab.show()"
      ],
      "metadata": {
        "id": "nKrXxl6gApjS",
        "colab": {
          "base_uri": "https://localhost:8080/",
          "height": 472
        },
        "outputId": "4366aca3-7a85-446c-94fc-23532b54cbd4"
      },
      "execution_count": 23,
      "outputs": [
        {
          "output_type": "display_data",
          "data": {
            "text/plain": [
              "<Figure size 640x480 with 1 Axes>"
            ],
            "image/png": "[encoded data removed]"
          },
          "metadata": {}
        }
      ]
    },
    {
      "cell_type": "markdown",
      "source": [
        "Distrubution is normal so we can, without a doubt, use T-test here."
      ],
      "metadata": {
        "id": "J93bEv9pT9i3"
      }
    },
    {
      "cell_type": "code",
      "source": [
        "np.mean(result['A']>result['B'])"
      ],
      "metadata": {
        "colab": {
          "base_uri": "https://localhost:8080/"
        },
        "id": "VhDQKYXPJRGj",
        "outputId": "4f4a32af-e1c3-4096-82aa-f425f17b14b4"
      },
      "execution_count": 24,
      "outputs": [
        {
          "output_type": "execute_result",
          "data": {
            "text/plain": [
              "0.9615"
            ]
          },
          "metadata": {},
          "execution_count": 24
        }
      ]
    },
    {
      "cell_type": "code",
      "source": [
        "_, pval_tt = stats.ttest_ind(a=control,\n",
        "                             b=test,\n",
        "                             equal_var = True,\n",
        "                             alternative = 'two-sided')\n",
        "pval_tt"
      ],
      "metadata": {
        "id": "JO_6c6yFjHwr",
        "colab": {
          "base_uri": "https://localhost:8080/"
        },
        "outputId": "16cf5e16-cad0-4d9c-df22-3bac011f8bb1"
      },
      "execution_count": 25,
      "outputs": [
        {
          "output_type": "execute_result",
          "data": {
            "text/plain": [
              "0.07392220630182521"
            ]
          },
          "metadata": {},
          "execution_count": 25
        }
      ]
    },
    {
      "cell_type": "code",
      "source": [
        "stat, pval_ztest = proportions_ztest([control.sum(), test.sum()],\n",
        "                                     [len(control), len(test)])\n",
        "pval_ztest"
      ],
      "metadata": {
        "id": "qlI_nEjb2-jF",
        "colab": {
          "base_uri": "https://localhost:8080/"
        },
        "outputId": "ebcbd90a-994c-472b-d06a-e4c0615cf4e2"
      },
      "execution_count": 26,
      "outputs": [
        {
          "output_type": "execute_result",
          "data": {
            "text/plain": [
              "0.0739207603418346"
            ]
          },
          "metadata": {},
          "execution_count": 26
        }
      ]
    },
    {
      "cell_type": "markdown",
      "source": [
        "**We fail to reject the null hypothesis** with p value = 0.074. There is no statistically significant difference in day 1 retention rates between the control and test groups based both on the **independent t-test** and **proportion z test**.\n",
        "\n",
        "Based on the bootstrapping we can conclude that based on our observations **gate_30 will more likely bring in a higher conversion rate** in long_term."
      ],
      "metadata": {
        "id": "8dOat2_GjN8T"
      }
    },
    {
      "cell_type": "markdown",
      "source": [
        "##A/B Testing for Day 7 Conversion"
      ],
      "metadata": {
        "id": "EB0SohTO_RXB"
      }
    },
    {
      "cell_type": "markdown",
      "source": [
        "**H0: There is no difference in day 7 retention rate**\n",
        "\n",
        "**H1: There is a difference in day 7 retention rate**\n",
        "\n",
        "Given the binary nature of day 1 retention estimator, a **proportion z-test** can be used to compare the proportions of retention between the two groups. Additionally, an **independent t-test** can be applied to the raw retention data if the assumptions of normality and equal variances are met. To provide a more robust analysis, bootstrapping can be employed.\n",
        "\n",
        "We know that the Homogeneity of variance is already met, as it is visually seen on the hist below."
      ],
      "metadata": {
        "id": "c2JBbGRaCZdc"
      }
    },
    {
      "cell_type": "code",
      "source": [
        "control = data[data['groups'] == 'gate_30']['login_day_7']\n",
        "test = data[data['groups'] == 'gate_40']['login_day_7']"
      ],
      "metadata": {
        "id": "ycSsikC9CZdd"
      },
      "execution_count": 27,
      "outputs": []
    },
    {
      "cell_type": "code",
      "source": [
        "result = pd.DataFrame(bootstrap(control,\n",
        "                                test,\n",
        "                                control.mean(),\n",
        "                                test.mean(),\n",
        "                                len(control),\n",
        "                                10000),\n",
        "                      columns = ['A', 'B'])\n",
        "result.hist(bins=20)"
      ],
      "metadata": {
        "id": "EzPLRvSCCZdd",
        "colab": {
          "base_uri": "https://localhost:8080/",
          "height": 507
        },
        "outputId": "9005e3c4-a783-4700-ded8-00c25213745c"
      },
      "execution_count": 28,
      "outputs": [
        {
          "output_type": "stream",
          "name": "stderr",
          "text": [
            "100%|██████████| 10000/10000 [00:21<00:00, 461.94it/s]\n"
          ]
        },
        {
          "output_type": "execute_result",
          "data": {
            "text/plain": [
              "array([[<Axes: title={'center': 'A'}>, <Axes: title={'center': 'B'}>]],\n",
              "      dtype=object)"
            ]
          },
          "metadata": {},
          "execution_count": 28
        },
        {
          "output_type": "display_data",
          "data": {
            "text/plain": [
              "<Figure size 640x480 with 2 Axes>"
            ],
            "image/png": "[encoded data removed]"
          },
          "metadata": {}
        }
      ]
    },
    {
      "cell_type": "code",
      "source": [
        "stats.probplot(result['A'],\n",
        "               dist=\"norm\",\n",
        "               plot=pylab),\n",
        "\n",
        "stats.probplot(result['B'],\n",
        "               dist=\"norm\",\n",
        "               plot=pylab)\n",
        "pylab.show()"
      ],
      "metadata": {
        "id": "QmPC45jZCZde",
        "colab": {
          "base_uri": "https://localhost:8080/",
          "height": 472
        },
        "outputId": "4e9b632a-950a-42e2-cbf6-3ef46b515e93"
      },
      "execution_count": 29,
      "outputs": [
        {
          "output_type": "display_data",
          "data": {
            "text/plain": [
              "<Figure size 640x480 with 1 Axes>"
            ],
            "image/png": "[encoded data removed]"
          },
          "metadata": {}
        }
      ]
    },
    {
      "cell_type": "markdown",
      "source": [
        "Distrubution is normal so we can, without a doubt, use T-test here too."
      ],
      "metadata": {
        "id": "LGLOHv3XUNpz"
      }
    },
    {
      "cell_type": "code",
      "source": [
        "_, pval_tt = stats.ttest_ind(a=control,\n",
        "                             b=test,\n",
        "                             equal_var = True,\n",
        "                             alternative = 'two-sided')\n",
        "pval_tt"
      ],
      "metadata": {
        "id": "AamdIGQsCZde",
        "colab": {
          "base_uri": "https://localhost:8080/"
        },
        "outputId": "2e6b06bb-d5ed-4b4c-e573-e35f80a51ee9"
      },
      "execution_count": 30,
      "outputs": [
        {
          "output_type": "execute_result",
          "data": {
            "text/plain": [
              "0.0015915357297854773"
            ]
          },
          "metadata": {},
          "execution_count": 30
        }
      ]
    },
    {
      "cell_type": "code",
      "source": [
        "from statsmodels.stats.proportion import proportions_ztest\n",
        "stat, pval_ztest = proportions_ztest([control.sum(), test.sum()],\n",
        "                                      [len(control), len(test)])\n",
        "pval_ztest"
      ],
      "metadata": {
        "id": "fUiIj65ECZdf",
        "colab": {
          "base_uri": "https://localhost:8080/"
        },
        "outputId": "27c38f63-e617-4e8d-f577-8361730071e2"
      },
      "execution_count": 31,
      "outputs": [
        {
          "output_type": "execute_result",
          "data": {
            "text/plain": [
              "0.0015917731773993442"
            ]
          },
          "metadata": {},
          "execution_count": 31
        }
      ]
    },
    {
      "cell_type": "code",
      "source": [
        "np.mean(result['A']>result['B'])"
      ],
      "metadata": {
        "id": "e1vwGv9F_6Cg",
        "colab": {
          "base_uri": "https://localhost:8080/"
        },
        "outputId": "27c1e7b8-725a-4138-c8ac-94a2466cbfdc"
      },
      "execution_count": 32,
      "outputs": [
        {
          "output_type": "execute_result",
          "data": {
            "text/plain": [
              "0.999"
            ]
          },
          "metadata": {},
          "execution_count": 32
        }
      ]
    },
    {
      "cell_type": "markdown",
      "source": [
        "At a significance level = 0.05 with p value = 0.00159, **we reject the null hypothesis**. There is a statistically significant difference in day 7 retention rates between the control and test groups based both on the independent t-test and proportion z-test.\n",
        "\n",
        "Based on the bootstrapping we can conclude that based on our observations gate_30 will more likely bring in a higher conversion rate in long_term."
      ],
      "metadata": {
        "id": "ed5s1sPfodUQ"
      }
    },
    {
      "cell_type": "markdown",
      "source": [
        "#Conclusion"
      ],
      "metadata": {
        "id": "G-sCtUTPqUkx"
      }
    },
    {
      "cell_type": "markdown",
      "source": [
        "The A/B test comparing A (gate_30) and B (gate_40) revealed the following insights:\n",
        "\n",
        "*  **Rounds played in 14 days**: The observed difference between the groups is not statistically significant and could be due to chance. The increase of gate level did not affect the amount of rounds played.\n",
        "*   **1-Day Retention**: There was no statistically significant difference in 1-day retention rates between A and B (p-value = 0.0739). This indicates that both versions perform similarly in terms of short-term user engagement.\n",
        "*   **7-Day Retention**: A statistically significant difference was observed in 7-day retention rates (p-value = 0.0016). A (gate_30) demonstrated a higher long-term retention rate compared to B (gate_40).\n",
        "\n",
        "Bootstrapping shows that gate_30 is more likely to have better day 1 and day 7 retention rate than gate_40.\n",
        "\n",
        "## It is not recommended to upgrade Gate up to level 40.\n",
        "\n",
        "\n"
      ],
      "metadata": {
        "id": "HfcngBB3rkA9"
      }
    }
  ]
}